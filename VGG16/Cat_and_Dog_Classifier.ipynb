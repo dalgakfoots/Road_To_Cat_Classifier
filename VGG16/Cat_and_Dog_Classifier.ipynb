{
  "nbformat": 4,
  "nbformat_minor": 0,
  "metadata": {
    "colab": {
      "name": "Cat and Dog Classifier.ipynb",
      "provenance": []
    },
    "kernelspec": {
      "name": "python3",
      "display_name": "Python 3"
    },
    "accelerator": "GPU"
  },
  "cells": [
    {
      "cell_type": "code",
      "metadata": {
        "id": "sJGCR9gf8C-6"
      },
      "source": [
        "import tensorflow\r\n",
        "import keras\r\n",
        "\r\n",
        "import numpy as np\r\n",
        "import matplotlib.pyplot as plt\r\n",
        "from tensorflow.keras.preprocessing.image import ImageDataGenerator"
      ],
      "execution_count": 1,
      "outputs": []
    },
    {
      "cell_type": "code",
      "metadata": {
        "id": "8Tk_sS4J8T0z"
      },
      "source": [
        "train_dir = '/content/drive/MyDrive/CatClassifier/train'"
      ],
      "execution_count": 2,
      "outputs": []
    },
    {
      "cell_type": "code",
      "metadata": {
        "id": "QzYIHVRu8U36"
      },
      "source": [
        "train_datagen = ImageDataGenerator(validation_split=0.2,rescale=1./255)"
      ],
      "execution_count": 3,
      "outputs": []
    },
    {
      "cell_type": "code",
      "metadata": {
        "colab": {
          "base_uri": "https://localhost:8080/"
        },
        "id": "V8vCh8g48dNa",
        "outputId": "a22825b1-6e83-49d1-9ac0-6e7b9995d57e"
      },
      "source": [
        "train_generator = train_datagen.flow_from_directory(\r\n",
        "    train_dir,\r\n",
        "    target_size=(224,224),\r\n",
        "    batch_size=32,\r\n",
        "    subset='training',\r\n",
        "    class_mode='binary',\r\n",
        ")\r\n",
        "\r\n",
        "validation_generator = train_datagen.flow_from_directory(\r\n",
        "    train_dir,\r\n",
        "    target_size=(224,224),\r\n",
        "    batch_size=32,\r\n",
        "    subset='validation',\r\n",
        "    class_mode='binary'\r\n",
        ")\r\n"
      ],
      "execution_count": 5,
      "outputs": [
        {
          "output_type": "stream",
          "text": [
            "Found 20001 images belonging to 2 classes.\n",
            "Found 5000 images belonging to 2 classes.\n"
          ],
          "name": "stdout"
        }
      ]
    },
    {
      "cell_type": "code",
      "metadata": {
        "id": "EHwjX1A98eRS"
      },
      "source": [
        "model = keras.models.Sequential([\r\n",
        "\r\n",
        "    # Conv Block 1\r\n",
        "    keras.layers.Conv2D(input_shape=(224,224,3), filters=64, kernel_size=(3,3), padding='same', activation='relu'),\r\n",
        "    keras.layers.Conv2D(filters=64 , kernel_size=(3,3) , padding='same', activation='relu'),\r\n",
        "    keras.layers.MaxPooling2D(pool_size=(2,2), strides=(2,2)),\r\n",
        "\r\n",
        "    # Conv Block 2\r\n",
        "    keras.layers.Conv2D(filters=128 , kernel_size=(3,3) , padding='same', activation='relu'),\r\n",
        "    keras.layers.Conv2D(filters=128 , kernel_size=(3,3) , padding='same', activation='relu'),\r\n",
        "    keras.layers.MaxPooling2D(pool_size=(2,2), strides=(2,2)),\r\n",
        "\r\n",
        "    # Conv Block 3\r\n",
        "    keras.layers.Conv2D(filters=256 , kernel_size=(3,3) , padding='same', activation='relu'),\r\n",
        "    keras.layers.Conv2D(filters=256 , kernel_size=(3,3) , padding='same', activation='relu'),\r\n",
        "    keras.layers.Conv2D(filters=256 , kernel_size=(3,3) , padding='same', activation='relu'),\r\n",
        "    keras.layers.MaxPooling2D(pool_size=(2,2), strides=(2,2)),\r\n",
        "\r\n",
        "    # Conv Block 4\r\n",
        "    keras.layers.Conv2D(filters=512 , kernel_size=(3,3) , padding='same', activation='relu'),\r\n",
        "    keras.layers.Conv2D(filters=512 , kernel_size=(3,3) , padding='same', activation='relu'),\r\n",
        "    keras.layers.Conv2D(filters=512 , kernel_size=(3,3) , padding='same', activation='relu'),\r\n",
        "    keras.layers.MaxPooling2D(pool_size=(2,2), strides=(2,2)),\r\n",
        "\r\n",
        "    # Conv Block 5\r\n",
        "    keras.layers.Conv2D(filters=512 , kernel_size=(3,3) , padding='same', activation='relu'),\r\n",
        "    keras.layers.Conv2D(filters=512 , kernel_size=(3,3) , padding='same', activation='relu'),\r\n",
        "    keras.layers.Conv2D(filters=512 , kernel_size=(3,3) , padding='same', activation='relu'),\r\n",
        "    keras.layers.MaxPooling2D(pool_size=(2,2), strides=(2,2)),\r\n",
        "\r\n",
        "    # Flattened Block\r\n",
        "    keras.layers.Flatten(),\r\n",
        "    keras.layers.Dense(4096, activation='relu'),\r\n",
        "    keras.layers.Dense(4096, activation='relu'),\r\n",
        "    keras.layers.Dense(2, activation='softmax'),\r\n",
        "\r\n",
        "])"
      ],
      "execution_count": 7,
      "outputs": []
    },
    {
      "cell_type": "code",
      "metadata": {
        "colab": {
          "base_uri": "https://localhost:8080/"
        },
        "id": "NuAYTJmx_AVy",
        "outputId": "622d5478-fddc-4a6e-f3bc-677d910928ff"
      },
      "source": [
        "model.summary()"
      ],
      "execution_count": 8,
      "outputs": [
        {
          "output_type": "stream",
          "text": [
            "Model: \"sequential\"\n",
            "_________________________________________________________________\n",
            "Layer (type)                 Output Shape              Param #   \n",
            "=================================================================\n",
            "conv2d (Conv2D)              (None, 224, 224, 64)      1792      \n",
            "_________________________________________________________________\n",
            "conv2d_1 (Conv2D)            (None, 224, 224, 64)      36928     \n",
            "_________________________________________________________________\n",
            "max_pooling2d (MaxPooling2D) (None, 112, 112, 64)      0         \n",
            "_________________________________________________________________\n",
            "conv2d_2 (Conv2D)            (None, 112, 112, 128)     73856     \n",
            "_________________________________________________________________\n",
            "conv2d_3 (Conv2D)            (None, 112, 112, 128)     147584    \n",
            "_________________________________________________________________\n",
            "max_pooling2d_1 (MaxPooling2 (None, 56, 56, 128)       0         \n",
            "_________________________________________________________________\n",
            "conv2d_4 (Conv2D)            (None, 56, 56, 256)       295168    \n",
            "_________________________________________________________________\n",
            "conv2d_5 (Conv2D)            (None, 56, 56, 256)       590080    \n",
            "_________________________________________________________________\n",
            "conv2d_6 (Conv2D)            (None, 56, 56, 256)       590080    \n",
            "_________________________________________________________________\n",
            "max_pooling2d_2 (MaxPooling2 (None, 28, 28, 256)       0         \n",
            "_________________________________________________________________\n",
            "conv2d_7 (Conv2D)            (None, 28, 28, 512)       1180160   \n",
            "_________________________________________________________________\n",
            "conv2d_8 (Conv2D)            (None, 28, 28, 512)       2359808   \n",
            "_________________________________________________________________\n",
            "conv2d_9 (Conv2D)            (None, 28, 28, 512)       2359808   \n",
            "_________________________________________________________________\n",
            "max_pooling2d_3 (MaxPooling2 (None, 14, 14, 512)       0         \n",
            "_________________________________________________________________\n",
            "conv2d_10 (Conv2D)           (None, 14, 14, 512)       2359808   \n",
            "_________________________________________________________________\n",
            "conv2d_11 (Conv2D)           (None, 14, 14, 512)       2359808   \n",
            "_________________________________________________________________\n",
            "conv2d_12 (Conv2D)           (None, 14, 14, 512)       2359808   \n",
            "_________________________________________________________________\n",
            "max_pooling2d_4 (MaxPooling2 (None, 7, 7, 512)         0         \n",
            "_________________________________________________________________\n",
            "flatten (Flatten)            (None, 25088)             0         \n",
            "_________________________________________________________________\n",
            "dense (Dense)                (None, 4096)              102764544 \n",
            "_________________________________________________________________\n",
            "dense_1 (Dense)              (None, 4096)              16781312  \n",
            "_________________________________________________________________\n",
            "dense_2 (Dense)              (None, 2)                 8194      \n",
            "=================================================================\n",
            "Total params: 134,268,738\n",
            "Trainable params: 134,268,738\n",
            "Non-trainable params: 0\n",
            "_________________________________________________________________\n"
          ],
          "name": "stdout"
        }
      ]
    },
    {
      "cell_type": "code",
      "metadata": {
        "id": "M_9h42e8_Fzy"
      },
      "source": [
        "model.compile(loss='sparse_categorical_crossentropy',\r\n",
        "              optimizer=keras.optimizers.SGD(lr=0.001, momentum=0.9, decay = 0.0005),\r\n",
        "              metrics=['accuracy'])"
      ],
      "execution_count": 9,
      "outputs": []
    },
    {
      "cell_type": "code",
      "metadata": {
        "colab": {
          "base_uri": "https://localhost:8080/"
        },
        "id": "Cx9F3K2VAMZq",
        "outputId": "7229e8ee-9b3d-4c45-fce7-981a5c9c1e5b"
      },
      "source": [
        "hist = model.fit_generator(train_generator,\r\n",
        "                 steps_per_epoch=100, \r\n",
        "                 epochs = 15 , \r\n",
        "                 validation_data=validation_generator ,\r\n",
        "                 validation_steps=50 ,\r\n",
        "                 verbose=1)"
      ],
      "execution_count": 10,
      "outputs": [
        {
          "output_type": "stream",
          "text": [
            "/usr/local/lib/python3.7/dist-packages/tensorflow/python/keras/engine/training.py:1844: UserWarning: `Model.fit_generator` is deprecated and will be removed in a future version. Please use `Model.fit`, which supports generators.\n",
            "  warnings.warn('`Model.fit_generator` is deprecated and '\n"
          ],
          "name": "stderr"
        },
        {
          "output_type": "stream",
          "text": [
            "Epoch 1/15\n",
            "100/100 [==============================] - 1814s 18s/step - loss: 0.6932 - accuracy: 0.4926 - val_loss: 0.6929 - val_accuracy: 0.5038\n",
            "Epoch 2/15\n",
            "100/100 [==============================] - 1388s 14s/step - loss: 0.6929 - accuracy: 0.5045 - val_loss: 0.6927 - val_accuracy: 0.5763\n",
            "Epoch 3/15\n",
            "100/100 [==============================] - 1097s 11s/step - loss: 0.6928 - accuracy: 0.5357 - val_loss: 0.6923 - val_accuracy: 0.5144\n",
            "Epoch 4/15\n",
            "100/100 [==============================] - 875s 9s/step - loss: 0.6925 - accuracy: 0.5086 - val_loss: 0.6926 - val_accuracy: 0.5181\n",
            "Epoch 5/15\n",
            "100/100 [==============================] - 723s 7s/step - loss: 0.6926 - accuracy: 0.5190 - val_loss: 0.6913 - val_accuracy: 0.5319\n",
            "Epoch 6/15\n",
            "100/100 [==============================] - 611s 6s/step - loss: 0.6921 - accuracy: 0.5227 - val_loss: 0.6918 - val_accuracy: 0.5119\n",
            "Epoch 7/15\n",
            "100/100 [==============================] - 495s 5s/step - loss: 0.6920 - accuracy: 0.5255 - val_loss: 0.6911 - val_accuracy: 0.6081\n",
            "Epoch 8/15\n",
            "100/100 [==============================] - 404s 4s/step - loss: 0.6914 - accuracy: 0.5693 - val_loss: 0.6920 - val_accuracy: 0.4969\n",
            "Epoch 9/15\n",
            "100/100 [==============================] - 322s 3s/step - loss: 0.6913 - accuracy: 0.5291 - val_loss: 0.6905 - val_accuracy: 0.5794\n",
            "Epoch 10/15\n",
            "100/100 [==============================] - 293s 3s/step - loss: 0.6910 - accuracy: 0.5493 - val_loss: 0.6905 - val_accuracy: 0.5606\n",
            "Epoch 11/15\n",
            "100/100 [==============================] - 230s 2s/step - loss: 0.6901 - accuracy: 0.5613 - val_loss: 0.6891 - val_accuracy: 0.5325\n",
            "Epoch 12/15\n",
            "100/100 [==============================] - 204s 2s/step - loss: 0.6898 - accuracy: 0.5509 - val_loss: 0.6882 - val_accuracy: 0.6037\n",
            "Epoch 13/15\n",
            "100/100 [==============================] - 169s 2s/step - loss: 0.6878 - accuracy: 0.5849 - val_loss: 0.6887 - val_accuracy: 0.5838\n",
            "Epoch 14/15\n",
            "100/100 [==============================] - 155s 2s/step - loss: 0.6894 - accuracy: 0.5401 - val_loss: 0.6889 - val_accuracy: 0.5481\n",
            "Epoch 15/15\n",
            "100/100 [==============================] - 113s 1s/step - loss: 0.6874 - accuracy: 0.5567 - val_loss: 0.6879 - val_accuracy: 0.5325\n"
          ],
          "name": "stdout"
        }
      ]
    },
    {
      "cell_type": "code",
      "metadata": {
        "colab": {
          "base_uri": "https://localhost:8080/"
        },
        "id": "BN_hlyklAOIC",
        "outputId": "e72caada-1c31-437d-f3b5-4beee9500c06"
      },
      "source": [
        "model.save('/content/drive/MyDrive/CatClassifier/VggNet')"
      ],
      "execution_count": 11,
      "outputs": [
        {
          "output_type": "stream",
          "text": [
            "INFO:tensorflow:Assets written to: /content/drive/MyDrive/CatClassifier/VggNet/assets\n"
          ],
          "name": "stdout"
        }
      ]
    },
    {
      "cell_type": "code",
      "metadata": {
        "id": "GS0UQoYDjcs_"
      },
      "source": [
        "model.save('/content/drive/MyDrive/CatClassifier/VggNet/vggnet_ver0.h5')"
      ],
      "execution_count": 12,
      "outputs": []
    },
    {
      "cell_type": "code",
      "metadata": {
        "id": "ygpMw196jgVd"
      },
      "source": [
        ""
      ],
      "execution_count": null,
      "outputs": []
    }
  ]
}