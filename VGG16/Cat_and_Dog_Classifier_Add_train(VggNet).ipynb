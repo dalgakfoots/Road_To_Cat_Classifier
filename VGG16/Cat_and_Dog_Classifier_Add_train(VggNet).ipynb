{
  "nbformat": 4,
  "nbformat_minor": 0,
  "metadata": {
    "colab": {
      "name": "Cat and Dog Classifier Add train(VggNet).ipynb",
      "provenance": []
    },
    "kernelspec": {
      "name": "python3",
      "display_name": "Python 3"
    },
    "accelerator": "GPU"
  },
  "cells": [
    {
      "cell_type": "code",
      "metadata": {
        "id": "sJGCR9gf8C-6"
      },
      "source": [
        "import tensorflow\r\n",
        "import keras\r\n",
        "\r\n",
        "import numpy as np\r\n",
        "import matplotlib.pyplot as plt\r\n",
        "from tensorflow.keras.preprocessing.image import ImageDataGenerator"
      ],
      "execution_count": 1,
      "outputs": []
    },
    {
      "cell_type": "code",
      "metadata": {
        "id": "8Tk_sS4J8T0z"
      },
      "source": [
        "train_dir = '/content/drive/MyDrive/CatClassifier/train'"
      ],
      "execution_count": 2,
      "outputs": []
    },
    {
      "cell_type": "code",
      "metadata": {
        "id": "QzYIHVRu8U36"
      },
      "source": [
        "train_datagen = ImageDataGenerator(validation_split=0.2,rescale=1./255)"
      ],
      "execution_count": 3,
      "outputs": []
    },
    {
      "cell_type": "code",
      "metadata": {
        "colab": {
          "base_uri": "https://localhost:8080/"
        },
        "id": "V8vCh8g48dNa",
        "outputId": "eb541ac5-185f-4951-afc7-90768543d2b2"
      },
      "source": [
        "train_generator = train_datagen.flow_from_directory(\r\n",
        "    train_dir,\r\n",
        "    target_size=(224,224),\r\n",
        "    batch_size=32,\r\n",
        "    subset='training',\r\n",
        "    class_mode='binary',\r\n",
        ")\r\n",
        "\r\n",
        "validation_generator = train_datagen.flow_from_directory(\r\n",
        "    train_dir,\r\n",
        "    target_size=(224,224),\r\n",
        "    batch_size=32,\r\n",
        "    subset='validation',\r\n",
        "    class_mode='binary'\r\n",
        ")\r\n"
      ],
      "execution_count": 4,
      "outputs": [
        {
          "output_type": "stream",
          "text": [
            "Found 20001 images belonging to 2 classes.\n",
            "Found 5000 images belonging to 2 classes.\n"
          ],
          "name": "stdout"
        }
      ]
    },
    {
      "cell_type": "code",
      "metadata": {
        "id": "onCOCtLW9lYF"
      },
      "source": [
        "# 추가 학습을 위해 미리 저장한 모델을 불러옴\r\n",
        "additional_model = keras.models.load_model('/content/drive/MyDrive/CatClassifier/VggNet')"
      ],
      "execution_count": 5,
      "outputs": []
    },
    {
      "cell_type": "code",
      "metadata": {
        "colab": {
          "base_uri": "https://localhost:8080/"
        },
        "id": "Mrhujd8d9tIU",
        "outputId": "d4cf90de-500a-4dcf-d325-20d3cc2ab49b"
      },
      "source": [
        "additional_model.summary()"
      ],
      "execution_count": 6,
      "outputs": [
        {
          "output_type": "stream",
          "text": [
            "Model: \"sequential\"\n",
            "_________________________________________________________________\n",
            "Layer (type)                 Output Shape              Param #   \n",
            "=================================================================\n",
            "conv2d (Conv2D)              (None, 224, 224, 64)      1792      \n",
            "_________________________________________________________________\n",
            "conv2d_1 (Conv2D)            (None, 224, 224, 64)      36928     \n",
            "_________________________________________________________________\n",
            "max_pooling2d (MaxPooling2D) (None, 112, 112, 64)      0         \n",
            "_________________________________________________________________\n",
            "conv2d_2 (Conv2D)            (None, 112, 112, 128)     73856     \n",
            "_________________________________________________________________\n",
            "conv2d_3 (Conv2D)            (None, 112, 112, 128)     147584    \n",
            "_________________________________________________________________\n",
            "max_pooling2d_1 (MaxPooling2 (None, 56, 56, 128)       0         \n",
            "_________________________________________________________________\n",
            "conv2d_4 (Conv2D)            (None, 56, 56, 256)       295168    \n",
            "_________________________________________________________________\n",
            "conv2d_5 (Conv2D)            (None, 56, 56, 256)       590080    \n",
            "_________________________________________________________________\n",
            "conv2d_6 (Conv2D)            (None, 56, 56, 256)       590080    \n",
            "_________________________________________________________________\n",
            "max_pooling2d_2 (MaxPooling2 (None, 28, 28, 256)       0         \n",
            "_________________________________________________________________\n",
            "conv2d_7 (Conv2D)            (None, 28, 28, 512)       1180160   \n",
            "_________________________________________________________________\n",
            "conv2d_8 (Conv2D)            (None, 28, 28, 512)       2359808   \n",
            "_________________________________________________________________\n",
            "conv2d_9 (Conv2D)            (None, 28, 28, 512)       2359808   \n",
            "_________________________________________________________________\n",
            "max_pooling2d_3 (MaxPooling2 (None, 14, 14, 512)       0         \n",
            "_________________________________________________________________\n",
            "conv2d_10 (Conv2D)           (None, 14, 14, 512)       2359808   \n",
            "_________________________________________________________________\n",
            "conv2d_11 (Conv2D)           (None, 14, 14, 512)       2359808   \n",
            "_________________________________________________________________\n",
            "conv2d_12 (Conv2D)           (None, 14, 14, 512)       2359808   \n",
            "_________________________________________________________________\n",
            "max_pooling2d_4 (MaxPooling2 (None, 7, 7, 512)         0         \n",
            "_________________________________________________________________\n",
            "flatten (Flatten)            (None, 25088)             0         \n",
            "_________________________________________________________________\n",
            "dense (Dense)                (None, 4096)              102764544 \n",
            "_________________________________________________________________\n",
            "dense_1 (Dense)              (None, 4096)              16781312  \n",
            "_________________________________________________________________\n",
            "dense_2 (Dense)              (None, 2)                 8194      \n",
            "=================================================================\n",
            "Total params: 134,268,738\n",
            "Trainable params: 134,268,738\n",
            "Non-trainable params: 0\n",
            "_________________________________________________________________\n"
          ],
          "name": "stdout"
        }
      ]
    },
    {
      "cell_type": "code",
      "metadata": {
        "id": "M_9h42e8_Fzy"
      },
      "source": [
        "additional_model.compile(loss='sparse_categorical_crossentropy',\r\n",
        "              optimizer=keras.optimizers.SGD(lr=0.001, momentum=0.9, decay = 0.0005),\r\n",
        "              metrics=['accuracy'])"
      ],
      "execution_count": 7,
      "outputs": []
    },
    {
      "cell_type": "code",
      "metadata": {
        "id": "d2MjIKw294Kc"
      },
      "source": [
        "from keras.callbacks import ModelCheckpoint, EarlyStopping"
      ],
      "execution_count": 8,
      "outputs": []
    },
    {
      "cell_type": "code",
      "metadata": {
        "id": "TXUJPJOz96K8"
      },
      "source": [
        "checkpoint = ModelCheckpoint(filepath='/content/drive/MyDrive/CatClassifier/VggNet',\r\n",
        "                             monitor='val_accuracy',\r\n",
        "                             verbose=1,\r\n",
        "                             save_best_only=True,\r\n",
        "                             save_weights_only=False,\r\n",
        "                             mode='auto',)\r\n",
        "\r\n",
        "early = EarlyStopping(monitor='val_loss', min_delta=0.0001, patience = 5, verbose = 1, mode= 'auto')"
      ],
      "execution_count": 11,
      "outputs": []
    },
    {
      "cell_type": "code",
      "metadata": {
        "colab": {
          "base_uri": "https://localhost:8080/"
        },
        "id": "Cx9F3K2VAMZq",
        "outputId": "d7bdad22-e8b1-4dc2-f234-b38c0cf5fb3d"
      },
      "source": [
        "hist = additional_model.fit(train_generator,\r\n",
        "                 steps_per_epoch=100, \r\n",
        "                 epochs = 100 , \r\n",
        "                 validation_data=validation_generator ,\r\n",
        "                 validation_steps=50 ,\r\n",
        "                 verbose=1,\r\n",
        "                 callbacks=[checkpoint, early])"
      ],
      "execution_count": 12,
      "outputs": [
        {
          "output_type": "stream",
          "text": [
            "Epoch 1/100\n",
            "100/100 [==============================] - 3076s 31s/step - loss: 0.6909 - accuracy: 0.5279 - val_loss: 0.6861 - val_accuracy: 0.5881\n",
            "\n",
            "Epoch 00001: val_accuracy improved from -inf to 0.58812, saving model to /content/drive/MyDrive/CatClassifier/VggNet\n",
            "INFO:tensorflow:Assets written to: /content/drive/MyDrive/CatClassifier/VggNet/assets\n"
          ],
          "name": "stdout"
        },
        {
          "output_type": "stream",
          "text": [
            "INFO:tensorflow:Assets written to: /content/drive/MyDrive/CatClassifier/VggNet/assets\n"
          ],
          "name": "stderr"
        },
        {
          "output_type": "stream",
          "text": [
            "Epoch 2/100\n",
            "100/100 [==============================] - 2570s 26s/step - loss: 0.6872 - accuracy: 0.5614 - val_loss: 0.6836 - val_accuracy: 0.5813\n",
            "\n",
            "Epoch 00002: val_accuracy did not improve from 0.58812\n",
            "Epoch 3/100\n",
            "100/100 [==============================] - 1964s 20s/step - loss: 0.6835 - accuracy: 0.5620 - val_loss: 0.6815 - val_accuracy: 0.5800\n",
            "\n",
            "Epoch 00003: val_accuracy did not improve from 0.58812\n",
            "Epoch 4/100\n",
            "100/100 [==============================] - 1651s 17s/step - loss: 0.6850 - accuracy: 0.5555 - val_loss: 0.6762 - val_accuracy: 0.5981\n",
            "\n",
            "Epoch 00004: val_accuracy improved from 0.58812 to 0.59812, saving model to /content/drive/MyDrive/CatClassifier/VggNet\n",
            "INFO:tensorflow:Assets written to: /content/drive/MyDrive/CatClassifier/VggNet/assets\n"
          ],
          "name": "stdout"
        },
        {
          "output_type": "stream",
          "text": [
            "INFO:tensorflow:Assets written to: /content/drive/MyDrive/CatClassifier/VggNet/assets\n"
          ],
          "name": "stderr"
        },
        {
          "output_type": "stream",
          "text": [
            "Epoch 5/100\n",
            "100/100 [==============================] - 1304s 13s/step - loss: 0.6792 - accuracy: 0.5813 - val_loss: 0.7036 - val_accuracy: 0.5213\n",
            "\n",
            "Epoch 00005: val_accuracy did not improve from 0.59812\n",
            "Epoch 6/100\n",
            "100/100 [==============================] - 1067s 11s/step - loss: 0.6827 - accuracy: 0.5619 - val_loss: 0.6926 - val_accuracy: 0.5188\n",
            "\n",
            "Epoch 00006: val_accuracy did not improve from 0.59812\n",
            "Epoch 7/100\n",
            "100/100 [==============================] - 865s 9s/step - loss: 0.6849 - accuracy: 0.5621 - val_loss: 0.6733 - val_accuracy: 0.6087\n",
            "\n",
            "Epoch 00007: val_accuracy improved from 0.59812 to 0.60875, saving model to /content/drive/MyDrive/CatClassifier/VggNet\n",
            "INFO:tensorflow:Assets written to: /content/drive/MyDrive/CatClassifier/VggNet/assets\n"
          ],
          "name": "stdout"
        },
        {
          "output_type": "stream",
          "text": [
            "INFO:tensorflow:Assets written to: /content/drive/MyDrive/CatClassifier/VggNet/assets\n"
          ],
          "name": "stderr"
        },
        {
          "output_type": "stream",
          "text": [
            "Epoch 8/100\n",
            "100/100 [==============================] - 742s 7s/step - loss: 0.6744 - accuracy: 0.5772 - val_loss: 0.6944 - val_accuracy: 0.5325\n",
            "\n",
            "Epoch 00008: val_accuracy did not improve from 0.60875\n",
            "Epoch 9/100\n",
            "100/100 [==============================] - 584s 6s/step - loss: 0.6741 - accuracy: 0.5724 - val_loss: 0.6603 - val_accuracy: 0.6081\n",
            "\n",
            "Epoch 00009: val_accuracy did not improve from 0.60875\n",
            "Epoch 10/100\n",
            "100/100 [==============================] - 475s 5s/step - loss: 0.6646 - accuracy: 0.5888 - val_loss: 0.6531 - val_accuracy: 0.6194\n",
            "\n",
            "Epoch 00010: val_accuracy improved from 0.60875 to 0.61937, saving model to /content/drive/MyDrive/CatClassifier/VggNet\n",
            "INFO:tensorflow:Assets written to: /content/drive/MyDrive/CatClassifier/VggNet/assets\n"
          ],
          "name": "stdout"
        },
        {
          "output_type": "stream",
          "text": [
            "INFO:tensorflow:Assets written to: /content/drive/MyDrive/CatClassifier/VggNet/assets\n"
          ],
          "name": "stderr"
        },
        {
          "output_type": "stream",
          "text": [
            "Epoch 11/100\n",
            "100/100 [==============================] - 447s 4s/step - loss: 0.6594 - accuracy: 0.5961 - val_loss: 0.6447 - val_accuracy: 0.6237\n",
            "\n",
            "Epoch 00011: val_accuracy improved from 0.61937 to 0.62375, saving model to /content/drive/MyDrive/CatClassifier/VggNet\n",
            "INFO:tensorflow:Assets written to: /content/drive/MyDrive/CatClassifier/VggNet/assets\n"
          ],
          "name": "stdout"
        },
        {
          "output_type": "stream",
          "text": [
            "INFO:tensorflow:Assets written to: /content/drive/MyDrive/CatClassifier/VggNet/assets\n"
          ],
          "name": "stderr"
        },
        {
          "output_type": "stream",
          "text": [
            "Epoch 12/100\n",
            "100/100 [==============================] - 344s 3s/step - loss: 0.6457 - accuracy: 0.6182 - val_loss: 0.6436 - val_accuracy: 0.6112\n",
            "\n",
            "Epoch 00012: val_accuracy did not improve from 0.62375\n",
            "Epoch 13/100\n",
            "100/100 [==============================] - 291s 3s/step - loss: 0.6506 - accuracy: 0.6026 - val_loss: 0.6341 - val_accuracy: 0.6369\n",
            "\n",
            "Epoch 00013: val_accuracy improved from 0.62375 to 0.63687, saving model to /content/drive/MyDrive/CatClassifier/VggNet\n",
            "INFO:tensorflow:Assets written to: /content/drive/MyDrive/CatClassifier/VggNet/assets\n"
          ],
          "name": "stdout"
        },
        {
          "output_type": "stream",
          "text": [
            "INFO:tensorflow:Assets written to: /content/drive/MyDrive/CatClassifier/VggNet/assets\n"
          ],
          "name": "stderr"
        },
        {
          "output_type": "stream",
          "text": [
            "Epoch 14/100\n",
            "100/100 [==============================] - 234s 2s/step - loss: 0.6517 - accuracy: 0.6095 - val_loss: 0.6811 - val_accuracy: 0.5606\n",
            "\n",
            "Epoch 00014: val_accuracy did not improve from 0.63687\n",
            "Epoch 15/100\n",
            "100/100 [==============================] - 203s 2s/step - loss: 0.6487 - accuracy: 0.6069 - val_loss: 0.6256 - val_accuracy: 0.6463\n",
            "\n",
            "Epoch 00015: val_accuracy improved from 0.63687 to 0.64625, saving model to /content/drive/MyDrive/CatClassifier/VggNet\n",
            "INFO:tensorflow:Assets written to: /content/drive/MyDrive/CatClassifier/VggNet/assets\n"
          ],
          "name": "stdout"
        },
        {
          "output_type": "stream",
          "text": [
            "INFO:tensorflow:Assets written to: /content/drive/MyDrive/CatClassifier/VggNet/assets\n"
          ],
          "name": "stderr"
        },
        {
          "output_type": "stream",
          "text": [
            "Epoch 16/100\n",
            "100/100 [==============================] - 179s 2s/step - loss: 0.6317 - accuracy: 0.6274 - val_loss: 0.6343 - val_accuracy: 0.6269\n",
            "\n",
            "Epoch 00016: val_accuracy did not improve from 0.64625\n",
            "Epoch 17/100\n",
            "100/100 [==============================] - 143s 1s/step - loss: 0.6225 - accuracy: 0.6248 - val_loss: 0.6199 - val_accuracy: 0.6363\n",
            "\n",
            "Epoch 00017: val_accuracy did not improve from 0.64625\n",
            "Epoch 18/100\n",
            "100/100 [==============================] - 120s 1s/step - loss: 0.6173 - accuracy: 0.6372 - val_loss: 0.6485 - val_accuracy: 0.6075\n",
            "\n",
            "Epoch 00018: val_accuracy did not improve from 0.64625\n",
            "Epoch 19/100\n",
            "100/100 [==============================] - 106s 1s/step - loss: 0.6360 - accuracy: 0.6138 - val_loss: 0.6143 - val_accuracy: 0.6531\n",
            "\n",
            "Epoch 00019: val_accuracy improved from 0.64625 to 0.65312, saving model to /content/drive/MyDrive/CatClassifier/VggNet\n",
            "INFO:tensorflow:Assets written to: /content/drive/MyDrive/CatClassifier/VggNet/assets\n"
          ],
          "name": "stdout"
        },
        {
          "output_type": "stream",
          "text": [
            "INFO:tensorflow:Assets written to: /content/drive/MyDrive/CatClassifier/VggNet/assets\n"
          ],
          "name": "stderr"
        },
        {
          "output_type": "stream",
          "text": [
            "Epoch 20/100\n",
            "100/100 [==============================] - 99s 1s/step - loss: 0.6350 - accuracy: 0.6362 - val_loss: 0.6119 - val_accuracy: 0.6444\n",
            "\n",
            "Epoch 00020: val_accuracy did not improve from 0.65312\n",
            "Epoch 21/100\n",
            "100/100 [==============================] - 94s 941ms/step - loss: 0.6146 - accuracy: 0.6475 - val_loss: 0.6221 - val_accuracy: 0.6363\n",
            "\n",
            "Epoch 00021: val_accuracy did not improve from 0.65312\n",
            "Epoch 22/100\n",
            "100/100 [==============================] - 74s 744ms/step - loss: 0.6112 - accuracy: 0.6446 - val_loss: 0.6376 - val_accuracy: 0.6306\n",
            "\n",
            "Epoch 00022: val_accuracy did not improve from 0.65312\n",
            "Epoch 23/100\n",
            "100/100 [==============================] - 71s 714ms/step - loss: 0.6104 - accuracy: 0.6451 - val_loss: 0.6096 - val_accuracy: 0.6550\n",
            "\n",
            "Epoch 00023: val_accuracy improved from 0.65312 to 0.65500, saving model to /content/drive/MyDrive/CatClassifier/VggNet\n",
            "INFO:tensorflow:Assets written to: /content/drive/MyDrive/CatClassifier/VggNet/assets\n"
          ],
          "name": "stdout"
        },
        {
          "output_type": "stream",
          "text": [
            "INFO:tensorflow:Assets written to: /content/drive/MyDrive/CatClassifier/VggNet/assets\n"
          ],
          "name": "stderr"
        },
        {
          "output_type": "stream",
          "text": [
            "Epoch 24/100\n",
            "100/100 [==============================] - 62s 622ms/step - loss: 0.6106 - accuracy: 0.6539 - val_loss: 0.6354 - val_accuracy: 0.6069\n",
            "\n",
            "Epoch 00024: val_accuracy did not improve from 0.65500\n",
            "Epoch 25/100\n",
            "100/100 [==============================] - 61s 608ms/step - loss: 0.6147 - accuracy: 0.6426 - val_loss: 0.6018 - val_accuracy: 0.6750\n",
            "\n",
            "Epoch 00025: val_accuracy improved from 0.65500 to 0.67500, saving model to /content/drive/MyDrive/CatClassifier/VggNet\n",
            "INFO:tensorflow:Assets written to: /content/drive/MyDrive/CatClassifier/VggNet/assets\n"
          ],
          "name": "stdout"
        },
        {
          "output_type": "stream",
          "text": [
            "INFO:tensorflow:Assets written to: /content/drive/MyDrive/CatClassifier/VggNet/assets\n"
          ],
          "name": "stderr"
        },
        {
          "output_type": "stream",
          "text": [
            "Epoch 26/100\n",
            "100/100 [==============================] - 49s 464ms/step - loss: 0.6092 - accuracy: 0.6492 - val_loss: 0.6124 - val_accuracy: 0.6444\n",
            "\n",
            "Epoch 00026: val_accuracy did not improve from 0.67500\n",
            "Epoch 27/100\n",
            "100/100 [==============================] - 44s 440ms/step - loss: 0.6022 - accuracy: 0.6615 - val_loss: 0.5979 - val_accuracy: 0.6744\n",
            "\n",
            "Epoch 00027: val_accuracy did not improve from 0.67500\n",
            "Epoch 28/100\n",
            "100/100 [==============================] - 50s 497ms/step - loss: 0.5980 - accuracy: 0.6490 - val_loss: 0.5903 - val_accuracy: 0.6656\n",
            "\n",
            "Epoch 00028: val_accuracy did not improve from 0.67500\n",
            "Epoch 29/100\n",
            "100/100 [==============================] - 47s 469ms/step - loss: 0.5946 - accuracy: 0.6787 - val_loss: 0.6014 - val_accuracy: 0.6712\n",
            "\n",
            "Epoch 00029: val_accuracy did not improve from 0.67500\n",
            "Epoch 30/100\n",
            "100/100 [==============================] - 43s 427ms/step - loss: 0.6192 - accuracy: 0.6531 - val_loss: 0.6068 - val_accuracy: 0.6756\n",
            "\n",
            "Epoch 00030: val_accuracy improved from 0.67500 to 0.67563, saving model to /content/drive/MyDrive/CatClassifier/VggNet\n",
            "INFO:tensorflow:Assets written to: /content/drive/MyDrive/CatClassifier/VggNet/assets\n"
          ],
          "name": "stdout"
        },
        {
          "output_type": "stream",
          "text": [
            "INFO:tensorflow:Assets written to: /content/drive/MyDrive/CatClassifier/VggNet/assets\n"
          ],
          "name": "stderr"
        },
        {
          "output_type": "stream",
          "text": [
            "Epoch 31/100\n",
            "100/100 [==============================] - 39s 379ms/step - loss: 0.6041 - accuracy: 0.6719 - val_loss: 0.5849 - val_accuracy: 0.6756\n",
            "\n",
            "Epoch 00031: val_accuracy did not improve from 0.67563\n",
            "Epoch 32/100\n",
            "100/100 [==============================] - 37s 369ms/step - loss: 0.5987 - accuracy: 0.6531 - val_loss: 0.5899 - val_accuracy: 0.6800\n",
            "\n",
            "Epoch 00032: val_accuracy improved from 0.67563 to 0.68000, saving model to /content/drive/MyDrive/CatClassifier/VggNet\n",
            "INFO:tensorflow:Assets written to: /content/drive/MyDrive/CatClassifier/VggNet/assets\n"
          ],
          "name": "stdout"
        },
        {
          "output_type": "stream",
          "text": [
            "INFO:tensorflow:Assets written to: /content/drive/MyDrive/CatClassifier/VggNet/assets\n"
          ],
          "name": "stderr"
        },
        {
          "output_type": "stream",
          "text": [
            "Epoch 33/100\n",
            "100/100 [==============================] - 38s 382ms/step - loss: 0.5880 - accuracy: 0.6735 - val_loss: 0.5792 - val_accuracy: 0.6825\n",
            "\n",
            "Epoch 00033: val_accuracy improved from 0.68000 to 0.68250, saving model to /content/drive/MyDrive/CatClassifier/VggNet\n",
            "INFO:tensorflow:Assets written to: /content/drive/MyDrive/CatClassifier/VggNet/assets\n"
          ],
          "name": "stdout"
        },
        {
          "output_type": "stream",
          "text": [
            "INFO:tensorflow:Assets written to: /content/drive/MyDrive/CatClassifier/VggNet/assets\n"
          ],
          "name": "stderr"
        },
        {
          "output_type": "stream",
          "text": [
            "Epoch 34/100\n",
            "100/100 [==============================] - 39s 387ms/step - loss: 0.5997 - accuracy: 0.6630 - val_loss: 0.5841 - val_accuracy: 0.6837\n",
            "\n",
            "Epoch 00034: val_accuracy improved from 0.68250 to 0.68375, saving model to /content/drive/MyDrive/CatClassifier/VggNet\n",
            "INFO:tensorflow:Assets written to: /content/drive/MyDrive/CatClassifier/VggNet/assets\n"
          ],
          "name": "stdout"
        },
        {
          "output_type": "stream",
          "text": [
            "INFO:tensorflow:Assets written to: /content/drive/MyDrive/CatClassifier/VggNet/assets\n"
          ],
          "name": "stderr"
        },
        {
          "output_type": "stream",
          "text": [
            "Epoch 35/100\n",
            "100/100 [==============================] - 37s 366ms/step - loss: 0.6082 - accuracy: 0.6510 - val_loss: 0.6005 - val_accuracy: 0.6456\n",
            "\n",
            "Epoch 00035: val_accuracy did not improve from 0.68375\n",
            "Epoch 36/100\n",
            "100/100 [==============================] - 33s 328ms/step - loss: 0.6061 - accuracy: 0.6435 - val_loss: 0.5817 - val_accuracy: 0.6750\n",
            "\n",
            "Epoch 00036: val_accuracy did not improve from 0.68375\n",
            "Epoch 37/100\n",
            "100/100 [==============================] - 32s 320ms/step - loss: 0.5941 - accuracy: 0.6679 - val_loss: 0.5716 - val_accuracy: 0.6994\n",
            "\n",
            "Epoch 00037: val_accuracy improved from 0.68375 to 0.69937, saving model to /content/drive/MyDrive/CatClassifier/VggNet\n",
            "INFO:tensorflow:Assets written to: /content/drive/MyDrive/CatClassifier/VggNet/assets\n"
          ],
          "name": "stdout"
        },
        {
          "output_type": "stream",
          "text": [
            "INFO:tensorflow:Assets written to: /content/drive/MyDrive/CatClassifier/VggNet/assets\n"
          ],
          "name": "stderr"
        },
        {
          "output_type": "stream",
          "text": [
            "Epoch 38/100\n",
            "100/100 [==============================] - 35s 352ms/step - loss: 0.5931 - accuracy: 0.6598 - val_loss: 0.5892 - val_accuracy: 0.6725\n",
            "\n",
            "Epoch 00038: val_accuracy did not improve from 0.69937\n",
            "Epoch 39/100\n",
            "100/100 [==============================] - 30s 303ms/step - loss: 0.5849 - accuracy: 0.6782 - val_loss: 0.5806 - val_accuracy: 0.7113\n",
            "\n",
            "Epoch 00039: val_accuracy improved from 0.69937 to 0.71125, saving model to /content/drive/MyDrive/CatClassifier/VggNet\n",
            "INFO:tensorflow:Assets written to: /content/drive/MyDrive/CatClassifier/VggNet/assets\n"
          ],
          "name": "stdout"
        },
        {
          "output_type": "stream",
          "text": [
            "INFO:tensorflow:Assets written to: /content/drive/MyDrive/CatClassifier/VggNet/assets\n"
          ],
          "name": "stderr"
        },
        {
          "output_type": "stream",
          "text": [
            "Epoch 40/100\n",
            "100/100 [==============================] - 33s 333ms/step - loss: 0.5776 - accuracy: 0.6851 - val_loss: 0.5696 - val_accuracy: 0.6819\n",
            "\n",
            "Epoch 00040: val_accuracy did not improve from 0.71125\n",
            "Epoch 41/100\n",
            "100/100 [==============================] - 30s 302ms/step - loss: 0.5859 - accuracy: 0.6784 - val_loss: 0.5661 - val_accuracy: 0.6963\n",
            "\n",
            "Epoch 00041: val_accuracy did not improve from 0.71125\n",
            "Epoch 42/100\n",
            "100/100 [==============================] - 29s 291ms/step - loss: 0.5809 - accuracy: 0.6895 - val_loss: 0.5848 - val_accuracy: 0.6731\n",
            "\n",
            "Epoch 00042: val_accuracy did not improve from 0.71125\n",
            "Epoch 43/100\n",
            "100/100 [==============================] - 30s 295ms/step - loss: 0.5823 - accuracy: 0.6708 - val_loss: 0.5698 - val_accuracy: 0.6956\n",
            "\n",
            "Epoch 00043: val_accuracy did not improve from 0.71125\n",
            "Epoch 44/100\n",
            "100/100 [==============================] - 29s 284ms/step - loss: 0.5685 - accuracy: 0.6979 - val_loss: 0.5817 - val_accuracy: 0.6881\n",
            "\n",
            "Epoch 00044: val_accuracy did not improve from 0.71125\n",
            "Epoch 45/100\n",
            "100/100 [==============================] - 30s 301ms/step - loss: 0.5805 - accuracy: 0.6916 - val_loss: 0.5702 - val_accuracy: 0.7031\n",
            "\n",
            "Epoch 00045: val_accuracy did not improve from 0.71125\n",
            "Epoch 46/100\n",
            "100/100 [==============================] - 32s 315ms/step - loss: 0.5685 - accuracy: 0.6897 - val_loss: 0.5697 - val_accuracy: 0.7031\n",
            "\n",
            "Epoch 00046: val_accuracy did not improve from 0.71125\n",
            "Epoch 00046: early stopping\n"
          ],
          "name": "stdout"
        }
      ]
    },
    {
      "cell_type": "code",
      "metadata": {
        "colab": {
          "base_uri": "https://localhost:8080/"
        },
        "id": "BN_hlyklAOIC",
        "outputId": "31c17095-4f89-43e2-8ee0-625658f67e60"
      },
      "source": [
        "additional_model.save('/content/drive/MyDrive/CatClassifier/VggNet/additional train (1)')"
      ],
      "execution_count": 14,
      "outputs": [
        {
          "output_type": "stream",
          "text": [
            "INFO:tensorflow:Assets written to: /content/drive/MyDrive/CatClassifier/VggNet/additional train (1)/assets\n"
          ],
          "name": "stdout"
        },
        {
          "output_type": "stream",
          "text": [
            "INFO:tensorflow:Assets written to: /content/drive/MyDrive/CatClassifier/VggNet/additional train (1)/assets\n"
          ],
          "name": "stderr"
        }
      ]
    },
    {
      "cell_type": "code",
      "metadata": {
        "id": "ygpMw196jgVd",
        "colab": {
          "base_uri": "https://localhost:8080/"
        },
        "outputId": "dc681e79-1dff-4b68-91e4-7f92a4d90e85"
      },
      "source": [
        "additional_model.evaluate(train_generator)"
      ],
      "execution_count": 15,
      "outputs": [
        {
          "output_type": "stream",
          "text": [
            "626/626 [==============================] - 111s 177ms/step - loss: 0.5778 - accuracy: 0.6920\n"
          ],
          "name": "stdout"
        },
        {
          "output_type": "execute_result",
          "data": {
            "text/plain": [
              "[0.5778490304946899, 0.6919654011726379]"
            ]
          },
          "metadata": {
            "tags": []
          },
          "execution_count": 15
        }
      ]
    },
    {
      "cell_type": "code",
      "metadata": {
        "id": "5_D8Q1hbGqjQ"
      },
      "source": [
        ""
      ],
      "execution_count": null,
      "outputs": []
    }
  ]
}