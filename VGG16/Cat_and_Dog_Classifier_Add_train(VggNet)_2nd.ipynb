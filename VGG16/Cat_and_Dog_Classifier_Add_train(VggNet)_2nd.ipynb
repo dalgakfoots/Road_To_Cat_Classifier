{
  "nbformat": 4,
  "nbformat_minor": 0,
  "metadata": {
    "colab": {
      "name": "Cat and Dog Classifier Add train(VggNet) 2nd.ipynb",
      "provenance": []
    },
    "kernelspec": {
      "name": "python3",
      "display_name": "Python 3"
    },
    "accelerator": "GPU"
  },
  "cells": [
    {
      "cell_type": "code",
      "metadata": {
        "id": "sJGCR9gf8C-6"
      },
      "source": [
        "import tensorflow\r\n",
        "import keras\r\n",
        "\r\n",
        "import numpy as np\r\n",
        "import matplotlib.pyplot as plt\r\n",
        "from tensorflow.keras.preprocessing.image import ImageDataGenerator"
      ],
      "execution_count": null,
      "outputs": []
    },
    {
      "cell_type": "code",
      "metadata": {
        "id": "8Tk_sS4J8T0z"
      },
      "source": [
        "train_dir = '/content/drive/MyDrive/CatClassifier/train'"
      ],
      "execution_count": null,
      "outputs": []
    },
    {
      "cell_type": "code",
      "metadata": {
        "id": "QzYIHVRu8U36"
      },
      "source": [
        "train_datagen = ImageDataGenerator(\r\n",
        "    validation_split=0.2,\r\n",
        "    rescale=1./255,\r\n",
        "    shear_range=0.1,\r\n",
        "    zoom_range=0.2,\r\n",
        "    horizontal_flip=True,\r\n",
        "    width_shift_range=0.1,\r\n",
        "    height_shift_range=0.1,\r\n",
        "    rotation_range=15,)"
      ],
      "execution_count": null,
      "outputs": []
    },
    {
      "cell_type": "code",
      "metadata": {
        "colab": {
          "base_uri": "https://localhost:8080/"
        },
        "id": "V8vCh8g48dNa",
        "outputId": "44346e98-a9b0-4fc7-b4af-28c95d7b728f"
      },
      "source": [
        "train_generator = train_datagen.flow_from_directory(\r\n",
        "    train_dir,\r\n",
        "    target_size=(224,224),\r\n",
        "    batch_size=32,\r\n",
        "    subset='training',\r\n",
        "    class_mode='binary',\r\n",
        ")\r\n",
        "\r\n",
        "validation_generator = train_datagen.flow_from_directory(\r\n",
        "    train_dir,\r\n",
        "    target_size=(224,224),\r\n",
        "    batch_size=32,\r\n",
        "    subset='validation',\r\n",
        "    class_mode='binary'\r\n",
        ")\r\n"
      ],
      "execution_count": null,
      "outputs": [
        {
          "output_type": "stream",
          "text": [
            "Found 20001 images belonging to 2 classes.\n",
            "Found 5000 images belonging to 2 classes.\n"
          ],
          "name": "stdout"
        }
      ]
    },
    {
      "cell_type": "code",
      "metadata": {
        "id": "onCOCtLW9lYF"
      },
      "source": [
        "# 추가 학습을 위해 미리 저장한 모델을 불러옴\r\n",
        "additional_model = keras.models.load_model('/content/drive/MyDrive/CatClassifier/VggNet')"
      ],
      "execution_count": null,
      "outputs": []
    },
    {
      "cell_type": "code",
      "metadata": {
        "colab": {
          "base_uri": "https://localhost:8080/"
        },
        "id": "Mrhujd8d9tIU",
        "outputId": "7a0b4d27-7ad3-4740-c0d6-46f7a89408d5"
      },
      "source": [
        "additional_model.summary()"
      ],
      "execution_count": null,
      "outputs": [
        {
          "output_type": "stream",
          "text": [
            "Model: \"sequential\"\n",
            "_________________________________________________________________\n",
            "Layer (type)                 Output Shape              Param #   \n",
            "=================================================================\n",
            "conv2d (Conv2D)              (None, 224, 224, 64)      1792      \n",
            "_________________________________________________________________\n",
            "conv2d_1 (Conv2D)            (None, 224, 224, 64)      36928     \n",
            "_________________________________________________________________\n",
            "max_pooling2d (MaxPooling2D) (None, 112, 112, 64)      0         \n",
            "_________________________________________________________________\n",
            "conv2d_2 (Conv2D)            (None, 112, 112, 128)     73856     \n",
            "_________________________________________________________________\n",
            "conv2d_3 (Conv2D)            (None, 112, 112, 128)     147584    \n",
            "_________________________________________________________________\n",
            "max_pooling2d_1 (MaxPooling2 (None, 56, 56, 128)       0         \n",
            "_________________________________________________________________\n",
            "conv2d_4 (Conv2D)            (None, 56, 56, 256)       295168    \n",
            "_________________________________________________________________\n",
            "conv2d_5 (Conv2D)            (None, 56, 56, 256)       590080    \n",
            "_________________________________________________________________\n",
            "conv2d_6 (Conv2D)            (None, 56, 56, 256)       590080    \n",
            "_________________________________________________________________\n",
            "max_pooling2d_2 (MaxPooling2 (None, 28, 28, 256)       0         \n",
            "_________________________________________________________________\n",
            "conv2d_7 (Conv2D)            (None, 28, 28, 512)       1180160   \n",
            "_________________________________________________________________\n",
            "conv2d_8 (Conv2D)            (None, 28, 28, 512)       2359808   \n",
            "_________________________________________________________________\n",
            "conv2d_9 (Conv2D)            (None, 28, 28, 512)       2359808   \n",
            "_________________________________________________________________\n",
            "max_pooling2d_3 (MaxPooling2 (None, 14, 14, 512)       0         \n",
            "_________________________________________________________________\n",
            "conv2d_10 (Conv2D)           (None, 14, 14, 512)       2359808   \n",
            "_________________________________________________________________\n",
            "conv2d_11 (Conv2D)           (None, 14, 14, 512)       2359808   \n",
            "_________________________________________________________________\n",
            "conv2d_12 (Conv2D)           (None, 14, 14, 512)       2359808   \n",
            "_________________________________________________________________\n",
            "max_pooling2d_4 (MaxPooling2 (None, 7, 7, 512)         0         \n",
            "_________________________________________________________________\n",
            "flatten (Flatten)            (None, 25088)             0         \n",
            "_________________________________________________________________\n",
            "dense (Dense)                (None, 4096)              102764544 \n",
            "_________________________________________________________________\n",
            "dense_1 (Dense)              (None, 4096)              16781312  \n",
            "_________________________________________________________________\n",
            "dense_2 (Dense)              (None, 2)                 8194      \n",
            "=================================================================\n",
            "Total params: 134,268,738\n",
            "Trainable params: 134,268,738\n",
            "Non-trainable params: 0\n",
            "_________________________________________________________________\n"
          ],
          "name": "stdout"
        }
      ]
    },
    {
      "cell_type": "code",
      "metadata": {
        "id": "M_9h42e8_Fzy"
      },
      "source": [
        "additional_model.compile(loss='sparse_categorical_crossentropy',\r\n",
        "              optimizer=keras.optimizers.SGD(lr=0.001, momentum=0.9, decay = 0.0005),\r\n",
        "              metrics=['accuracy'])"
      ],
      "execution_count": null,
      "outputs": []
    },
    {
      "cell_type": "code",
      "metadata": {
        "id": "d2MjIKw294Kc"
      },
      "source": [
        "from keras.callbacks import ModelCheckpoint, EarlyStopping"
      ],
      "execution_count": null,
      "outputs": []
    },
    {
      "cell_type": "code",
      "metadata": {
        "id": "TXUJPJOz96K8"
      },
      "source": [
        "checkpoint = ModelCheckpoint(filepath='/content/drive/MyDrive/CatClassifier/VggNet',\r\n",
        "                             monitor='val_accuracy',\r\n",
        "                             verbose=1,\r\n",
        "                             save_best_only=True,\r\n",
        "                             save_weights_only=False,\r\n",
        "                             mode='auto',)\r\n",
        "\r\n",
        "early = EarlyStopping(monitor='val_loss', min_delta=0.0001, patience = 5, verbose = 1, mode= 'auto')"
      ],
      "execution_count": null,
      "outputs": []
    },
    {
      "cell_type": "code",
      "metadata": {
        "colab": {
          "base_uri": "https://localhost:8080/"
        },
        "id": "2Pe-B3SWiNoH",
        "outputId": "cfe2d6cc-dabc-49f5-f58c-002070a5bc9c"
      },
      "source": [
        "num_train_samples = train_generator.n\r\n",
        "num_train_batches = train_generator.batch_size\r\n",
        "print(num_train_samples,' , ',num_train_batches)\r\n",
        "train_size = num_train_samples // num_train_batches\r\n",
        "print(train_size)"
      ],
      "execution_count": null,
      "outputs": [
        {
          "output_type": "stream",
          "text": [
            "20001  ,  32\n",
            "625\n"
          ],
          "name": "stdout"
        }
      ]
    },
    {
      "cell_type": "code",
      "metadata": {
        "colab": {
          "base_uri": "https://localhost:8080/"
        },
        "id": "josx48sjiORO",
        "outputId": "604fedc6-d359-4742-85c8-f84134e5a9f3"
      },
      "source": [
        "num_val_samples = validation_generator.n\r\n",
        "num_val_batches = validation_generator.batch_size\r\n",
        "print(num_val_samples,' , ',num_val_batches)\r\n",
        "val_size = num_val_samples // num_val_batches\r\n",
        "print(val_size)"
      ],
      "execution_count": null,
      "outputs": [
        {
          "output_type": "stream",
          "text": [
            "5000  ,  32\n",
            "156\n"
          ],
          "name": "stdout"
        }
      ]
    },
    {
      "cell_type": "code",
      "metadata": {
        "colab": {
          "base_uri": "https://localhost:8080/"
        },
        "id": "Cx9F3K2VAMZq",
        "outputId": "45070a80-25e3-46fa-f7f4-e515e8ae1748"
      },
      "source": [
        "hist = additional_model.fit(train_generator,\r\n",
        "                 steps_per_epoch=train_size, \r\n",
        "                 epochs = 100 , \r\n",
        "                 validation_data=validation_generator ,\r\n",
        "                 validation_steps=val_size ,\r\n",
        "                 verbose=1,\r\n",
        "                 callbacks=[checkpoint, early])"
      ],
      "execution_count": null,
      "outputs": [
        {
          "output_type": "stream",
          "text": [
            "Epoch 1/100\n",
            "625/625 [==============================] - 19482s 31s/step - loss: 0.6231 - accuracy: 0.6331 - val_loss: 0.6015 - val_accuracy: 0.6585\n",
            "\n",
            "Epoch 00001: val_accuracy improved from -inf to 0.65845, saving model to /content/drive/MyDrive/CatClassifier/VggNet\n",
            "INFO:tensorflow:Assets written to: /content/drive/MyDrive/CatClassifier/VggNet/assets\n",
            "Epoch 2/100\n",
            "625/625 [==============================] - 405s 648ms/step - loss: 0.6111 - accuracy: 0.6478 - val_loss: 0.5866 - val_accuracy: 0.6837\n",
            "\n",
            "Epoch 00002: val_accuracy improved from 0.65845 to 0.68369, saving model to /content/drive/MyDrive/CatClassifier/VggNet\n",
            "INFO:tensorflow:Assets written to: /content/drive/MyDrive/CatClassifier/VggNet/assets\n",
            "Epoch 3/100\n",
            "625/625 [==============================] - 396s 633ms/step - loss: 0.5975 - accuracy: 0.6694 - val_loss: 0.5927 - val_accuracy: 0.6675\n",
            "\n",
            "Epoch 00003: val_accuracy did not improve from 0.68369\n",
            "Epoch 4/100\n",
            "625/625 [==============================] - 395s 632ms/step - loss: 0.5915 - accuracy: 0.6710 - val_loss: 0.5847 - val_accuracy: 0.6889\n",
            "\n",
            "Epoch 00004: val_accuracy improved from 0.68369 to 0.68890, saving model to /content/drive/MyDrive/CatClassifier/VggNet\n",
            "INFO:tensorflow:Assets written to: /content/drive/MyDrive/CatClassifier/VggNet/assets\n",
            "Epoch 5/100\n",
            "625/625 [==============================] - 402s 643ms/step - loss: 0.5840 - accuracy: 0.6774 - val_loss: 0.5629 - val_accuracy: 0.6971\n",
            "\n",
            "Epoch 00005: val_accuracy improved from 0.68890 to 0.69712, saving model to /content/drive/MyDrive/CatClassifier/VggNet\n",
            "INFO:tensorflow:Assets written to: /content/drive/MyDrive/CatClassifier/VggNet/assets\n",
            "Epoch 6/100\n",
            "625/625 [==============================] - 395s 632ms/step - loss: 0.5691 - accuracy: 0.6943 - val_loss: 0.5524 - val_accuracy: 0.7123\n",
            "\n",
            "Epoch 00006: val_accuracy improved from 0.69712 to 0.71234, saving model to /content/drive/MyDrive/CatClassifier/VggNet\n",
            "INFO:tensorflow:Assets written to: /content/drive/MyDrive/CatClassifier/VggNet/assets\n",
            "Epoch 7/100\n",
            "625/625 [==============================] - 397s 636ms/step - loss: 0.5618 - accuracy: 0.7081 - val_loss: 0.5380 - val_accuracy: 0.7312\n",
            "\n",
            "Epoch 00007: val_accuracy improved from 0.71234 to 0.73117, saving model to /content/drive/MyDrive/CatClassifier/VggNet\n",
            "INFO:tensorflow:Assets written to: /content/drive/MyDrive/CatClassifier/VggNet/assets\n",
            "Epoch 8/100\n",
            "625/625 [==============================] - 395s 633ms/step - loss: 0.5614 - accuracy: 0.7033 - val_loss: 0.5360 - val_accuracy: 0.7286\n",
            "\n",
            "Epoch 00008: val_accuracy did not improve from 0.73117\n",
            "Epoch 9/100\n",
            "625/625 [==============================] - 394s 630ms/step - loss: 0.5474 - accuracy: 0.7177 - val_loss: 0.5373 - val_accuracy: 0.7260\n",
            "\n",
            "Epoch 00009: val_accuracy did not improve from 0.73117\n",
            "Epoch 10/100\n",
            "625/625 [==============================] - 394s 631ms/step - loss: 0.5414 - accuracy: 0.7243 - val_loss: 0.5299 - val_accuracy: 0.7256\n",
            "\n",
            "Epoch 00010: val_accuracy did not improve from 0.73117\n",
            "Epoch 11/100\n",
            "625/625 [==============================] - 394s 631ms/step - loss: 0.5513 - accuracy: 0.7108 - val_loss: 0.5297 - val_accuracy: 0.7338\n",
            "\n",
            "Epoch 00011: val_accuracy improved from 0.73117 to 0.73377, saving model to /content/drive/MyDrive/CatClassifier/VggNet\n",
            "INFO:tensorflow:Assets written to: /content/drive/MyDrive/CatClassifier/VggNet/assets\n",
            "Epoch 12/100\n",
            "625/625 [==============================] - 397s 635ms/step - loss: 0.5378 - accuracy: 0.7257 - val_loss: 0.5120 - val_accuracy: 0.7524\n",
            "\n",
            "Epoch 00012: val_accuracy improved from 0.73377 to 0.75240, saving model to /content/drive/MyDrive/CatClassifier/VggNet\n",
            "INFO:tensorflow:Assets written to: /content/drive/MyDrive/CatClassifier/VggNet/assets\n",
            "Epoch 13/100\n",
            "625/625 [==============================] - 398s 637ms/step - loss: 0.5256 - accuracy: 0.7353 - val_loss: 0.5178 - val_accuracy: 0.7370\n",
            "\n",
            "Epoch 00013: val_accuracy did not improve from 0.75240\n",
            "Epoch 14/100\n",
            "625/625 [==============================] - 393s 629ms/step - loss: 0.5305 - accuracy: 0.7271 - val_loss: 0.5074 - val_accuracy: 0.7496\n",
            "\n",
            "Epoch 00014: val_accuracy did not improve from 0.75240\n",
            "Epoch 15/100\n",
            "625/625 [==============================] - 394s 631ms/step - loss: 0.5187 - accuracy: 0.7370 - val_loss: 0.5033 - val_accuracy: 0.7538\n",
            "\n",
            "Epoch 00015: val_accuracy improved from 0.75240 to 0.75381, saving model to /content/drive/MyDrive/CatClassifier/VggNet\n",
            "INFO:tensorflow:Assets written to: /content/drive/MyDrive/CatClassifier/VggNet/assets\n",
            "Epoch 16/100\n",
            "625/625 [==============================] - 396s 634ms/step - loss: 0.5139 - accuracy: 0.7407 - val_loss: 0.5208 - val_accuracy: 0.7426\n",
            "\n",
            "Epoch 00016: val_accuracy did not improve from 0.75381\n",
            "Epoch 17/100\n",
            "625/625 [==============================] - 393s 629ms/step - loss: 0.5041 - accuracy: 0.7466 - val_loss: 0.4872 - val_accuracy: 0.7676\n",
            "\n",
            "Epoch 00017: val_accuracy improved from 0.75381 to 0.76763, saving model to /content/drive/MyDrive/CatClassifier/VggNet\n",
            "INFO:tensorflow:Assets written to: /content/drive/MyDrive/CatClassifier/VggNet/assets\n",
            "Epoch 18/100\n",
            "625/625 [==============================] - 397s 635ms/step - loss: 0.4954 - accuracy: 0.7565 - val_loss: 0.4860 - val_accuracy: 0.7662\n",
            "\n",
            "Epoch 00018: val_accuracy did not improve from 0.76763\n",
            "Epoch 19/100\n",
            "625/625 [==============================] - 395s 632ms/step - loss: 0.4937 - accuracy: 0.7604 - val_loss: 0.4763 - val_accuracy: 0.7674\n",
            "\n",
            "Epoch 00019: val_accuracy did not improve from 0.76763\n",
            "Epoch 20/100\n",
            "625/625 [==============================] - 395s 633ms/step - loss: 0.4920 - accuracy: 0.7595 - val_loss: 0.4785 - val_accuracy: 0.7710\n",
            "\n",
            "Epoch 00020: val_accuracy improved from 0.76763 to 0.77103, saving model to /content/drive/MyDrive/CatClassifier/VggNet\n",
            "INFO:tensorflow:Assets written to: /content/drive/MyDrive/CatClassifier/VggNet/assets\n",
            "Epoch 21/100\n",
            "625/625 [==============================] - 396s 634ms/step - loss: 0.4783 - accuracy: 0.7672 - val_loss: 0.4642 - val_accuracy: 0.7768\n",
            "\n",
            "Epoch 00021: val_accuracy improved from 0.77103 to 0.77684, saving model to /content/drive/MyDrive/CatClassifier/VggNet\n",
            "INFO:tensorflow:Assets written to: /content/drive/MyDrive/CatClassifier/VggNet/assets\n",
            "Epoch 22/100\n",
            "625/625 [==============================] - 396s 634ms/step - loss: 0.4682 - accuracy: 0.7771 - val_loss: 0.4849 - val_accuracy: 0.7656\n",
            "\n",
            "Epoch 00022: val_accuracy did not improve from 0.77684\n",
            "Epoch 23/100\n",
            "625/625 [==============================] - 394s 630ms/step - loss: 0.4669 - accuracy: 0.7763 - val_loss: 0.4722 - val_accuracy: 0.7738\n",
            "\n",
            "Epoch 00023: val_accuracy did not improve from 0.77684\n",
            "Epoch 24/100\n",
            "625/625 [==============================] - 395s 632ms/step - loss: 0.4647 - accuracy: 0.7785 - val_loss: 0.4595 - val_accuracy: 0.7784\n",
            "\n",
            "Epoch 00024: val_accuracy improved from 0.77684 to 0.77845, saving model to /content/drive/MyDrive/CatClassifier/VggNet\n",
            "INFO:tensorflow:Assets written to: /content/drive/MyDrive/CatClassifier/VggNet/assets\n",
            "Epoch 25/100\n",
            "625/625 [==============================] - 402s 642ms/step - loss: 0.4601 - accuracy: 0.7793 - val_loss: 0.4603 - val_accuracy: 0.7815\n",
            "\n",
            "Epoch 00025: val_accuracy improved from 0.77845 to 0.78145, saving model to /content/drive/MyDrive/CatClassifier/VggNet\n",
            "INFO:tensorflow:Assets written to: /content/drive/MyDrive/CatClassifier/VggNet/assets\n",
            "Epoch 26/100\n",
            "625/625 [==============================] - 401s 642ms/step - loss: 0.4523 - accuracy: 0.7898 - val_loss: 0.4407 - val_accuracy: 0.7945\n",
            "\n",
            "Epoch 00026: val_accuracy improved from 0.78145 to 0.79447, saving model to /content/drive/MyDrive/CatClassifier/VggNet\n",
            "INFO:tensorflow:Assets written to: /content/drive/MyDrive/CatClassifier/VggNet/assets\n",
            "Epoch 27/100\n",
            "625/625 [==============================] - 408s 653ms/step - loss: 0.4574 - accuracy: 0.7826 - val_loss: 0.4328 - val_accuracy: 0.7925\n",
            "\n",
            "Epoch 00027: val_accuracy did not improve from 0.79447\n",
            "Epoch 28/100\n",
            "625/625 [==============================] - 405s 648ms/step - loss: 0.4461 - accuracy: 0.7899 - val_loss: 0.4466 - val_accuracy: 0.7861\n",
            "\n",
            "Epoch 00028: val_accuracy did not improve from 0.79447\n",
            "Epoch 29/100\n",
            "625/625 [==============================] - 403s 645ms/step - loss: 0.4481 - accuracy: 0.7843 - val_loss: 0.4304 - val_accuracy: 0.7965\n",
            "\n",
            "Epoch 00029: val_accuracy improved from 0.79447 to 0.79647, saving model to /content/drive/MyDrive/CatClassifier/VggNet\n",
            "INFO:tensorflow:Assets written to: /content/drive/MyDrive/CatClassifier/VggNet/assets\n",
            "Epoch 30/100\n",
            "625/625 [==============================] - 403s 645ms/step - loss: 0.4373 - accuracy: 0.7960 - val_loss: 0.4318 - val_accuracy: 0.7973\n",
            "\n",
            "Epoch 00030: val_accuracy improved from 0.79647 to 0.79728, saving model to /content/drive/MyDrive/CatClassifier/VggNet\n",
            "INFO:tensorflow:Assets written to: /content/drive/MyDrive/CatClassifier/VggNet/assets\n",
            "Epoch 31/100\n",
            "625/625 [==============================] - 405s 647ms/step - loss: 0.4350 - accuracy: 0.7973 - val_loss: 0.4278 - val_accuracy: 0.8011\n",
            "\n",
            "Epoch 00031: val_accuracy improved from 0.79728 to 0.80108, saving model to /content/drive/MyDrive/CatClassifier/VggNet\n",
            "INFO:tensorflow:Assets written to: /content/drive/MyDrive/CatClassifier/VggNet/assets\n",
            "Epoch 32/100\n",
            "625/625 [==============================] - 405s 647ms/step - loss: 0.4250 - accuracy: 0.8033 - val_loss: 0.4475 - val_accuracy: 0.7879\n",
            "\n",
            "Epoch 00032: val_accuracy did not improve from 0.80108\n",
            "Epoch 33/100\n",
            "625/625 [==============================] - 399s 639ms/step - loss: 0.4244 - accuracy: 0.8000 - val_loss: 0.4655 - val_accuracy: 0.7676\n",
            "\n",
            "Epoch 00033: val_accuracy did not improve from 0.80108\n",
            "Epoch 34/100\n",
            "625/625 [==============================] - 398s 637ms/step - loss: 0.4202 - accuracy: 0.8058 - val_loss: 0.4312 - val_accuracy: 0.8021\n",
            "\n",
            "Epoch 00034: val_accuracy improved from 0.80108 to 0.80208, saving model to /content/drive/MyDrive/CatClassifier/VggNet\n",
            "INFO:tensorflow:Assets written to: /content/drive/MyDrive/CatClassifier/VggNet/assets\n",
            "Epoch 35/100\n",
            "625/625 [==============================] - 389s 622ms/step - loss: 0.4224 - accuracy: 0.8004 - val_loss: 0.4167 - val_accuracy: 0.8107\n",
            "\n",
            "Epoch 00035: val_accuracy improved from 0.80208 to 0.81070, saving model to /content/drive/MyDrive/CatClassifier/VggNet\n",
            "INFO:tensorflow:Assets written to: /content/drive/MyDrive/CatClassifier/VggNet/assets\n",
            "Epoch 36/100\n",
            "625/625 [==============================] - 391s 626ms/step - loss: 0.4120 - accuracy: 0.8111 - val_loss: 0.4002 - val_accuracy: 0.8135\n",
            "\n",
            "Epoch 00036: val_accuracy improved from 0.81070 to 0.81350, saving model to /content/drive/MyDrive/CatClassifier/VggNet\n",
            "INFO:tensorflow:Assets written to: /content/drive/MyDrive/CatClassifier/VggNet/assets\n",
            "Epoch 37/100\n",
            "625/625 [==============================] - 395s 633ms/step - loss: 0.4037 - accuracy: 0.8173 - val_loss: 0.4192 - val_accuracy: 0.7989\n",
            "\n",
            "Epoch 00037: val_accuracy did not improve from 0.81350\n",
            "Epoch 38/100\n",
            "625/625 [==============================] - 390s 624ms/step - loss: 0.4023 - accuracy: 0.8110 - val_loss: 0.3918 - val_accuracy: 0.8203\n",
            "\n",
            "Epoch 00038: val_accuracy improved from 0.81350 to 0.82031, saving model to /content/drive/MyDrive/CatClassifier/VggNet\n",
            "INFO:tensorflow:Assets written to: /content/drive/MyDrive/CatClassifier/VggNet/assets\n",
            "Epoch 39/100\n",
            "625/625 [==============================] - 392s 627ms/step - loss: 0.3979 - accuracy: 0.8183 - val_loss: 0.3927 - val_accuracy: 0.8247\n",
            "\n",
            "Epoch 00039: val_accuracy improved from 0.82031 to 0.82472, saving model to /content/drive/MyDrive/CatClassifier/VggNet\n",
            "INFO:tensorflow:Assets written to: /content/drive/MyDrive/CatClassifier/VggNet/assets\n",
            "Epoch 40/100\n",
            "625/625 [==============================] - 388s 620ms/step - loss: 0.3876 - accuracy: 0.8231 - val_loss: 0.3775 - val_accuracy: 0.8235\n",
            "\n",
            "Epoch 00040: val_accuracy did not improve from 0.82472\n",
            "Epoch 41/100\n",
            "625/625 [==============================] - 386s 618ms/step - loss: 0.3825 - accuracy: 0.8245 - val_loss: 0.3819 - val_accuracy: 0.8243\n",
            "\n",
            "Epoch 00041: val_accuracy did not improve from 0.82472\n",
            "Epoch 42/100\n",
            "625/625 [==============================] - 393s 630ms/step - loss: 0.3803 - accuracy: 0.8260 - val_loss: 0.3792 - val_accuracy: 0.8307\n",
            "\n",
            "Epoch 00042: val_accuracy improved from 0.82472 to 0.83073, saving model to /content/drive/MyDrive/CatClassifier/VggNet\n",
            "INFO:tensorflow:Assets written to: /content/drive/MyDrive/CatClassifier/VggNet/assets\n",
            "Epoch 43/100\n",
            "625/625 [==============================] - 400s 640ms/step - loss: 0.3780 - accuracy: 0.8256 - val_loss: 0.3754 - val_accuracy: 0.8321\n",
            "\n",
            "Epoch 00043: val_accuracy improved from 0.83073 to 0.83213, saving model to /content/drive/MyDrive/CatClassifier/VggNet\n",
            "INFO:tensorflow:Assets written to: /content/drive/MyDrive/CatClassifier/VggNet/assets\n",
            "Epoch 44/100\n",
            "625/625 [==============================] - 390s 623ms/step - loss: 0.3769 - accuracy: 0.8329 - val_loss: 0.3840 - val_accuracy: 0.8249\n",
            "\n",
            "Epoch 00044: val_accuracy did not improve from 0.83213\n",
            "Epoch 45/100\n",
            "625/625 [==============================] - 389s 623ms/step - loss: 0.3697 - accuracy: 0.8318 - val_loss: 0.3771 - val_accuracy: 0.8231\n",
            "\n",
            "Epoch 00045: val_accuracy did not improve from 0.83213\n",
            "Epoch 46/100\n",
            "625/625 [==============================] - 392s 627ms/step - loss: 0.3570 - accuracy: 0.8408 - val_loss: 0.3567 - val_accuracy: 0.8333\n",
            "\n",
            "Epoch 00046: val_accuracy improved from 0.83213 to 0.83333, saving model to /content/drive/MyDrive/CatClassifier/VggNet\n",
            "INFO:tensorflow:Assets written to: /content/drive/MyDrive/CatClassifier/VggNet/assets\n",
            "Epoch 47/100\n",
            "625/625 [==============================] - 390s 625ms/step - loss: 0.3809 - accuracy: 0.8268 - val_loss: 0.3615 - val_accuracy: 0.8355\n",
            "\n",
            "Epoch 00047: val_accuracy improved from 0.83333 to 0.83554, saving model to /content/drive/MyDrive/CatClassifier/VggNet\n",
            "INFO:tensorflow:Assets written to: /content/drive/MyDrive/CatClassifier/VggNet/assets\n",
            "Epoch 48/100\n",
            "625/625 [==============================] - 388s 622ms/step - loss: 0.3590 - accuracy: 0.8379 - val_loss: 0.3603 - val_accuracy: 0.8369\n",
            "\n",
            "Epoch 00048: val_accuracy improved from 0.83554 to 0.83694, saving model to /content/drive/MyDrive/CatClassifier/VggNet\n",
            "INFO:tensorflow:Assets written to: /content/drive/MyDrive/CatClassifier/VggNet/assets\n",
            "Epoch 49/100\n",
            "625/625 [==============================] - 392s 627ms/step - loss: 0.3580 - accuracy: 0.8385 - val_loss: 0.3690 - val_accuracy: 0.8375\n",
            "\n",
            "Epoch 00049: val_accuracy improved from 0.83694 to 0.83754, saving model to /content/drive/MyDrive/CatClassifier/VggNet\n",
            "INFO:tensorflow:Assets written to: /content/drive/MyDrive/CatClassifier/VggNet/assets\n",
            "Epoch 50/100\n",
            "625/625 [==============================] - 392s 627ms/step - loss: 0.3525 - accuracy: 0.8455 - val_loss: 0.3784 - val_accuracy: 0.8255\n",
            "\n",
            "Epoch 00050: val_accuracy did not improve from 0.83754\n",
            "Epoch 51/100\n",
            "625/625 [==============================] - 383s 613ms/step - loss: 0.3567 - accuracy: 0.8428 - val_loss: 0.3553 - val_accuracy: 0.8419\n",
            "\n",
            "Epoch 00051: val_accuracy improved from 0.83754 to 0.84195, saving model to /content/drive/MyDrive/CatClassifier/VggNet\n",
            "INFO:tensorflow:Assets written to: /content/drive/MyDrive/CatClassifier/VggNet/assets\n",
            "Epoch 52/100\n",
            "625/625 [==============================] - 384s 614ms/step - loss: 0.3424 - accuracy: 0.8441 - val_loss: 0.3499 - val_accuracy: 0.8435\n",
            "\n",
            "Epoch 00052: val_accuracy improved from 0.84195 to 0.84355, saving model to /content/drive/MyDrive/CatClassifier/VggNet\n",
            "INFO:tensorflow:Assets written to: /content/drive/MyDrive/CatClassifier/VggNet/assets\n",
            "Epoch 53/100\n",
            "625/625 [==============================] - 392s 628ms/step - loss: 0.3424 - accuracy: 0.8494 - val_loss: 0.3481 - val_accuracy: 0.8407\n",
            "\n",
            "Epoch 00053: val_accuracy did not improve from 0.84355\n",
            "Epoch 54/100\n",
            "625/625 [==============================] - 389s 622ms/step - loss: 0.3416 - accuracy: 0.8478 - val_loss: 0.3604 - val_accuracy: 0.8331\n",
            "\n",
            "Epoch 00054: val_accuracy did not improve from 0.84355\n",
            "Epoch 55/100\n",
            "625/625 [==============================] - 390s 624ms/step - loss: 0.3458 - accuracy: 0.8494 - val_loss: 0.3801 - val_accuracy: 0.8253\n",
            "\n",
            "Epoch 00055: val_accuracy did not improve from 0.84355\n",
            "Epoch 56/100\n",
            "625/625 [==============================] - 387s 618ms/step - loss: 0.3360 - accuracy: 0.8473 - val_loss: 0.3509 - val_accuracy: 0.8427\n",
            "\n",
            "Epoch 00056: val_accuracy did not improve from 0.84355\n",
            "Epoch 57/100\n",
            "625/625 [==============================] - 387s 619ms/step - loss: 0.3292 - accuracy: 0.8538 - val_loss: 0.3440 - val_accuracy: 0.8450\n",
            "\n",
            "Epoch 00057: val_accuracy improved from 0.84355 to 0.84495, saving model to /content/drive/MyDrive/CatClassifier/VggNet\n",
            "INFO:tensorflow:Assets written to: /content/drive/MyDrive/CatClassifier/VggNet/assets\n",
            "Epoch 58/100\n",
            "625/625 [==============================] - 392s 628ms/step - loss: 0.3322 - accuracy: 0.8543 - val_loss: 0.3261 - val_accuracy: 0.8544\n",
            "\n",
            "Epoch 00058: val_accuracy improved from 0.84495 to 0.85437, saving model to /content/drive/MyDrive/CatClassifier/VggNet\n",
            "INFO:tensorflow:Assets written to: /content/drive/MyDrive/CatClassifier/VggNet/assets\n",
            "Epoch 59/100\n",
            "625/625 [==============================] - 392s 627ms/step - loss: 0.3273 - accuracy: 0.8569 - val_loss: 0.3487 - val_accuracy: 0.8464\n",
            "\n",
            "Epoch 00059: val_accuracy did not improve from 0.85437\n",
            "Epoch 60/100\n",
            "625/625 [==============================] - 390s 624ms/step - loss: 0.3160 - accuracy: 0.8618 - val_loss: 0.3478 - val_accuracy: 0.8444\n",
            "\n",
            "Epoch 00060: val_accuracy did not improve from 0.85437\n",
            "Epoch 61/100\n",
            "625/625 [==============================] - 390s 624ms/step - loss: 0.3202 - accuracy: 0.8594 - val_loss: 0.3287 - val_accuracy: 0.8554\n",
            "\n",
            "Epoch 00061: val_accuracy improved from 0.85437 to 0.85537, saving model to /content/drive/MyDrive/CatClassifier/VggNet\n",
            "INFO:tensorflow:Assets written to: /content/drive/MyDrive/CatClassifier/VggNet/assets\n",
            "Epoch 62/100\n",
            "625/625 [==============================] - 394s 630ms/step - loss: 0.3162 - accuracy: 0.8629 - val_loss: 0.3198 - val_accuracy: 0.8618\n",
            "\n",
            "Epoch 00062: val_accuracy improved from 0.85537 to 0.86178, saving model to /content/drive/MyDrive/CatClassifier/VggNet\n",
            "INFO:tensorflow:Assets written to: /content/drive/MyDrive/CatClassifier/VggNet/assets\n",
            "Epoch 63/100\n",
            "625/625 [==============================] - 393s 629ms/step - loss: 0.3170 - accuracy: 0.8628 - val_loss: 0.3200 - val_accuracy: 0.8568\n",
            "\n",
            "Epoch 00063: val_accuracy did not improve from 0.86178\n",
            "Epoch 64/100\n",
            "625/625 [==============================] - 392s 628ms/step - loss: 0.3077 - accuracy: 0.8647 - val_loss: 0.3199 - val_accuracy: 0.8584\n",
            "\n",
            "Epoch 00064: val_accuracy did not improve from 0.86178\n",
            "Epoch 65/100\n",
            "625/625 [==============================] - 392s 627ms/step - loss: 0.3077 - accuracy: 0.8682 - val_loss: 0.3115 - val_accuracy: 0.8618\n",
            "\n",
            "Epoch 00065: val_accuracy did not improve from 0.86178\n",
            "Epoch 66/100\n",
            "625/625 [==============================] - 391s 626ms/step - loss: 0.2986 - accuracy: 0.8677 - val_loss: 0.3205 - val_accuracy: 0.8586\n",
            "\n",
            "Epoch 00066: val_accuracy did not improve from 0.86178\n",
            "Epoch 67/100\n",
            "625/625 [==============================] - 392s 627ms/step - loss: 0.3100 - accuracy: 0.8649 - val_loss: 0.3095 - val_accuracy: 0.8650\n",
            "\n",
            "Epoch 00067: val_accuracy improved from 0.86178 to 0.86498, saving model to /content/drive/MyDrive/CatClassifier/VggNet\n",
            "INFO:tensorflow:Assets written to: /content/drive/MyDrive/CatClassifier/VggNet/assets\n",
            "Epoch 68/100\n",
            "625/625 [==============================] - 394s 630ms/step - loss: 0.3051 - accuracy: 0.8640 - val_loss: 0.3166 - val_accuracy: 0.8606\n",
            "\n",
            "Epoch 00068: val_accuracy did not improve from 0.86498\n",
            "Epoch 69/100\n",
            "625/625 [==============================] - 392s 627ms/step - loss: 0.3060 - accuracy: 0.8672 - val_loss: 0.3278 - val_accuracy: 0.8558\n",
            "\n",
            "Epoch 00069: val_accuracy did not improve from 0.86498\n",
            "Epoch 70/100\n",
            "625/625 [==============================] - 392s 626ms/step - loss: 0.2945 - accuracy: 0.8733 - val_loss: 0.3071 - val_accuracy: 0.8660\n",
            "\n",
            "Epoch 00070: val_accuracy improved from 0.86498 to 0.86599, saving model to /content/drive/MyDrive/CatClassifier/VggNet\n",
            "INFO:tensorflow:Assets written to: /content/drive/MyDrive/CatClassifier/VggNet/assets\n",
            "Epoch 71/100\n",
            "625/625 [==============================] - 393s 630ms/step - loss: 0.2954 - accuracy: 0.8697 - val_loss: 0.3026 - val_accuracy: 0.8634\n",
            "\n",
            "Epoch 00071: val_accuracy did not improve from 0.86599\n",
            "Epoch 72/100\n",
            "625/625 [==============================] - 392s 627ms/step - loss: 0.2956 - accuracy: 0.8709 - val_loss: 0.2939 - val_accuracy: 0.8764\n",
            "\n",
            "Epoch 00072: val_accuracy improved from 0.86599 to 0.87640, saving model to /content/drive/MyDrive/CatClassifier/VggNet\n",
            "INFO:tensorflow:Assets written to: /content/drive/MyDrive/CatClassifier/VggNet/assets\n",
            "Epoch 73/100\n",
            "625/625 [==============================] - 395s 632ms/step - loss: 0.3020 - accuracy: 0.8693 - val_loss: 0.3107 - val_accuracy: 0.8666\n",
            "\n",
            "Epoch 00073: val_accuracy did not improve from 0.87640\n",
            "Epoch 74/100\n",
            "625/625 [==============================] - 392s 627ms/step - loss: 0.2940 - accuracy: 0.8716 - val_loss: 0.3078 - val_accuracy: 0.8646\n",
            "\n",
            "Epoch 00074: val_accuracy did not improve from 0.87640\n",
            "Epoch 75/100\n",
            "625/625 [==============================] - 391s 625ms/step - loss: 0.2843 - accuracy: 0.8786 - val_loss: 0.2930 - val_accuracy: 0.8748\n",
            "\n",
            "Epoch 00075: val_accuracy did not improve from 0.87640\n",
            "Epoch 76/100\n",
            "625/625 [==============================] - 400s 640ms/step - loss: 0.2945 - accuracy: 0.8755 - val_loss: 0.3136 - val_accuracy: 0.8634\n",
            "\n",
            "Epoch 00076: val_accuracy did not improve from 0.87640\n",
            "Epoch 77/100\n",
            "625/625 [==============================] - 395s 632ms/step - loss: 0.2819 - accuracy: 0.8784 - val_loss: 0.3209 - val_accuracy: 0.8566\n",
            "\n",
            "Epoch 00077: val_accuracy did not improve from 0.87640\n",
            "Epoch 78/100\n",
            "625/625 [==============================] - 391s 625ms/step - loss: 0.2875 - accuracy: 0.8807 - val_loss: 0.3078 - val_accuracy: 0.8660\n",
            "\n",
            "Epoch 00078: val_accuracy did not improve from 0.87640\n",
            "Epoch 79/100\n",
            "625/625 [==============================] - 388s 621ms/step - loss: 0.2874 - accuracy: 0.8760 - val_loss: 0.3225 - val_accuracy: 0.8568\n",
            "\n",
            "Epoch 00079: val_accuracy did not improve from 0.87640\n",
            "Epoch 80/100\n",
            "625/625 [==============================] - 388s 620ms/step - loss: 0.2907 - accuracy: 0.8731 - val_loss: 0.2992 - val_accuracy: 0.8654\n",
            "\n",
            "Epoch 00080: val_accuracy did not improve from 0.87640\n",
            "Epoch 00080: early stopping\n"
          ],
          "name": "stdout"
        }
      ]
    },
    {
      "cell_type": "code",
      "metadata": {
        "id": "ygpMw196jgVd",
        "colab": {
          "base_uri": "https://localhost:8080/"
        },
        "outputId": "27777c70-9a39-49a6-cd25-54a843fa2519"
      },
      "source": [
        "additional_model.evaluate(train_generator)"
      ],
      "execution_count": null,
      "outputs": [
        {
          "output_type": "stream",
          "text": [
            "626/626 [==============================] - 295s 471ms/step - loss: 0.2788 - accuracy: 0.8791\n"
          ],
          "name": "stdout"
        },
        {
          "output_type": "execute_result",
          "data": {
            "text/plain": [
              "[0.27880993485450745, 0.8790560364723206]"
            ]
          },
          "metadata": {
            "tags": []
          },
          "execution_count": 13
        }
      ]
    },
    {
      "cell_type": "code",
      "metadata": {
        "colab": {
          "base_uri": "https://localhost:8080/"
        },
        "id": "BN_hlyklAOIC",
        "outputId": "40421a5a-7038-43fb-8da1-26c3bb6d636b"
      },
      "source": [
        "additional_model.save('/content/drive/MyDrive/CatClassifier/VggNet/additional train (2)')"
      ],
      "execution_count": null,
      "outputs": [
        {
          "output_type": "stream",
          "text": [
            "INFO:tensorflow:Assets written to: /content/drive/MyDrive/CatClassifier/VggNet/additional train (2)/assets\n"
          ],
          "name": "stdout"
        }
      ]
    },
    {
      "cell_type": "code",
      "metadata": {
        "id": "5_D8Q1hbGqjQ"
      },
      "source": [
        ""
      ],
      "execution_count": null,
      "outputs": []
    }
  ]
}