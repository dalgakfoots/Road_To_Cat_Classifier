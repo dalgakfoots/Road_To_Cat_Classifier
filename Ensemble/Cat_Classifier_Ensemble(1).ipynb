{
  "nbformat": 4,
  "nbformat_minor": 0,
  "metadata": {
    "colab": {
      "name": "Cat Classifier Ensemble(1).ipynb",
      "provenance": [],
      "machine_shape": "hm"
    },
    "kernelspec": {
      "name": "python3",
      "display_name": "Python 3"
    },
    "accelerator": "GPU"
  },
  "cells": [
    {
      "cell_type": "code",
      "metadata": {
        "id": "ZnWhe8QJmLEE"
      },
      "source": [
        "import tensorflow as tf\r\n",
        "import keras\r\n",
        "\r\n",
        "import numpy as np\r\n",
        "import matplotlib.pyplot as plt\r\n",
        "from tensorflow.keras.preprocessing.image import ImageDataGenerator, DirectoryIterator"
      ],
      "execution_count": 1,
      "outputs": []
    },
    {
      "cell_type": "code",
      "metadata": {
        "id": "K3S2nQb10Sfv"
      },
      "source": [
        "basic_model = keras.models.load_model('/content/drive/MyDrive/CatClassifier/Basic CNN/ver0')\r\n",
        "alexNet_model = keras.models.load_model('/content/drive/MyDrive/CatClassifier/AlexNet')\r\n",
        "vgg_model = keras.models.load_model('/content/drive/MyDrive/CatClassifier/VggNet')\r\n",
        "googLenet_model = keras.models.load_model('/content/drive/MyDrive/CatClassifier/GoogLeNet')"
      ],
      "execution_count": 2,
      "outputs": []
    },
    {
      "cell_type": "code",
      "metadata": {
        "id": "AvRQesAZnjjk"
      },
      "source": [
        "# alexnet 227 x 227\r\n",
        "# googlenet 224 x 224\r\n",
        "# vgg 224 x 224\r\n",
        "# basic CNN 150 x 150"
      ],
      "execution_count": 3,
      "outputs": []
    },
    {
      "cell_type": "code",
      "metadata": {
        "id": "h3_DdKFrEYpv"
      },
      "source": [
        "train_dir = '/content/drive/MyDrive/CatClassifier/train_for_test'"
      ],
      "execution_count": 4,
      "outputs": []
    },
    {
      "cell_type": "code",
      "metadata": {
        "id": "F27biWZ6EayM"
      },
      "source": [
        "train_datagen = ImageDataGenerator(rescale=1./255)"
      ],
      "execution_count": 5,
      "outputs": []
    },
    {
      "cell_type": "code",
      "metadata": {
        "colab": {
          "base_uri": "https://localhost:8080/"
        },
        "id": "blwqGdLEE4ev",
        "outputId": "ae7663de-3295-4ec7-8060-4b202a054b5f"
      },
      "source": [
        "for_basic = train_datagen.flow_from_directory(\r\n",
        "    train_dir,\r\n",
        "    target_size=(150,150),\r\n",
        "    batch_size=1,\r\n",
        "    shuffle=False,\r\n",
        "    class_mode ='binary'\r\n",
        ")\r\n",
        "\r\n",
        "for_vgggoo = train_datagen.flow_from_directory(\r\n",
        "    train_dir,\r\n",
        "    target_size=(224,224),\r\n",
        "    batch_size=1,\r\n",
        "    shuffle=False,\r\n",
        "    class_mode ='binary'\r\n",
        ")\r\n",
        "\r\n",
        "for_alex = train_datagen.flow_from_directory(\r\n",
        "    train_dir,\r\n",
        "    target_size=(227,227),\r\n",
        "    batch_size=1,\r\n",
        "    shuffle=False,\r\n",
        "    class_mode ='binary'\r\n",
        ")"
      ],
      "execution_count": 6,
      "outputs": [
        {
          "output_type": "stream",
          "text": [
            "Found 8 images belonging to 2 classes.\n",
            "Found 8 images belonging to 2 classes.\n",
            "Found 8 images belonging to 2 classes.\n"
          ],
          "name": "stdout"
        }
      ]
    },
    {
      "cell_type": "code",
      "metadata": {
        "id": "tfF0ddHLeO5U"
      },
      "source": [
        "import tensorflow_datasets as tfds"
      ],
      "execution_count": 3,
      "outputs": []
    },
    {
      "cell_type": "code",
      "metadata": {
        "id": "037Zbek3eZn8"
      },
      "source": [
        "tfds.disable_progress_bar()\r\n",
        "vali_ds , metadata = tfds.load('cats_vs_dogs', with_info=True, as_supervised=True)"
      ],
      "execution_count": 4,
      "outputs": []
    },
    {
      "cell_type": "code",
      "metadata": {
        "id": "tcZFnkzZfp4s"
      },
      "source": [
        "vali_ds = vali_ds.get('train')"
      ],
      "execution_count": 5,
      "outputs": []
    },
    {
      "cell_type": "code",
      "metadata": {
        "id": "UWuzM0kte1k8"
      },
      "source": [
        "IMG_SIZE0 = 227\r\n",
        "def format_example0(image, label):\r\n",
        "  image = tf.cast(image, tf.float32)\r\n",
        "  image = (image/255.0)\r\n",
        "  image = tf.image.resize(image, (IMG_SIZE0, IMG_SIZE0))\r\n",
        "  return image, label\r\n",
        "\r\n",
        "IMG_SIZE1 = 224\r\n",
        "def format_example1(image, label):\r\n",
        "  image = tf.cast(image, tf.float32)\r\n",
        "  image = (image/255.0)\r\n",
        "  image = tf.image.resize(image, (IMG_SIZE1, IMG_SIZE1))\r\n",
        "  return image, label"
      ],
      "execution_count": 6,
      "outputs": []
    },
    {
      "cell_type": "code",
      "metadata": {
        "id": "zEgOnRgtgkIF"
      },
      "source": [
        "val_train0 = vali_ds.map(format_example0)\r\n",
        "val_train1 = vali_ds.map(format_example1)"
      ],
      "execution_count": 7,
      "outputs": []
    },
    {
      "cell_type": "code",
      "metadata": {
        "id": "rIJCv69zhtHm"
      },
      "source": [
        "val_train0 , val_train1 = val_train0.batch(1) , val_train1.batch(1)"
      ],
      "execution_count": 8,
      "outputs": []
    },
    {
      "cell_type": "code",
      "metadata": {
        "colab": {
          "base_uri": "https://localhost:8080/"
        },
        "id": "j0Bj9xvliDSk",
        "outputId": "8115cc3b-71b9-4e99-9455-e32d2b2886ae"
      },
      "source": [
        "googLenet_model.evaluate(val_train1)\r\n",
        "# accuracy : 0.8985..."
      ],
      "execution_count": 29,
      "outputs": [
        {
          "output_type": "stream",
          "text": [
            "23262/23262 [==============================] - 234s 10ms/step - loss: 0.4172 - main_classifier_loss: 0.2473 - auxiliary_4a_loss: 0.3105 - auxiliary_4d_loss: 0.2557 - main_classifier_main_classifier_accuracy: 0.8985 - auxiliary_4a_auxiliary_4a_accuracy: 0.8762 - auxiliary_4d_auxiliary_4d_accuracy: 0.8970\n"
          ],
          "name": "stdout"
        },
        {
          "output_type": "execute_result",
          "data": {
            "text/plain": [
              "[0.41720518469810486,\n",
              " 0.24732203781604767,\n",
              " 0.31053653359413147,\n",
              " 0.2557348310947418,\n",
              " 0.8985040187835693,\n",
              " 0.8761929273605347,\n",
              " 0.8969994187355042]"
            ]
          },
          "metadata": {
            "tags": []
          },
          "execution_count": 29
        }
      ]
    },
    {
      "cell_type": "code",
      "metadata": {
        "colab": {
          "base_uri": "https://localhost:8080/"
        },
        "id": "cXn-NIZeiL92",
        "outputId": "7756584c-35b0-4ade-ca85-b92024d3b3ab"
      },
      "source": [
        "vgg_model.evaluate(val_train1)\r\n",
        "# accuracy : 0.8933..."
      ],
      "execution_count": 30,
      "outputs": [
        {
          "output_type": "stream",
          "text": [
            "23262/23262 [==============================] - 171s 7ms/step - loss: 0.2532 - accuracy: 0.8933\n"
          ],
          "name": "stdout"
        },
        {
          "output_type": "execute_result",
          "data": {
            "text/plain": [
              "[0.2532358169555664, 0.8933453559875488]"
            ]
          },
          "metadata": {
            "tags": []
          },
          "execution_count": 30
        }
      ]
    },
    {
      "cell_type": "code",
      "metadata": {
        "colab": {
          "base_uri": "https://localhost:8080/"
        },
        "id": "87dvoJLFj8OV",
        "outputId": "a0b728dd-56cc-47a3-8862-c13a419ff419"
      },
      "source": [
        "alexNet_model.evaluate(val_train0)\r\n",
        "# accuracy : 0.9274"
      ],
      "execution_count": 31,
      "outputs": [
        {
          "output_type": "stream",
          "text": [
            "23262/23262 [==============================] - 85s 4ms/step - loss: 0.1809 - accuracy: 0.9274\n"
          ],
          "name": "stdout"
        },
        {
          "output_type": "execute_result",
          "data": {
            "text/plain": [
              "[0.18089741468429565, 0.9274352788925171]"
            ]
          },
          "metadata": {
            "tags": []
          },
          "execution_count": 31
        }
      ]
    },
    {
      "cell_type": "code",
      "metadata": {
        "id": "c4jk5J3xk7ZM"
      },
      "source": [
        "vgg = vgg_model.predict(val_train1)\r\n",
        "goo = googLenet_model.predict(val_train1)\r\n",
        "alex = alexNet_model.predict(val_train0)"
      ],
      "execution_count": 11,
      "outputs": []
    },
    {
      "cell_type": "code",
      "metadata": {
        "id": "hZ5UbD-5onoO"
      },
      "source": [
        "pred = (vgg + goo[0] + alex) / 3\r\n",
        "pred = tf.argmax(pred, axis = 1)"
      ],
      "execution_count": 12,
      "outputs": []
    },
    {
      "cell_type": "code",
      "metadata": {
        "colab": {
          "base_uri": "https://localhost:8080/"
        },
        "id": "u799B80wyWAV",
        "outputId": "cf5f7ecc-a977-44cd-e250-3cf6d950ef54"
      },
      "source": [
        "pred.shape"
      ],
      "execution_count": 13,
      "outputs": [
        {
          "output_type": "execute_result",
          "data": {
            "text/plain": [
              "TensorShape([23262])"
            ]
          },
          "metadata": {
            "tags": []
          },
          "execution_count": 13
        }
      ]
    },
    {
      "cell_type": "code",
      "metadata": {
        "id": "bXgrrsA4u6Oo"
      },
      "source": [
        "label = np.concatenate([y for x, y in val_train0], axis=0)"
      ],
      "execution_count": 9,
      "outputs": []
    },
    {
      "cell_type": "code",
      "metadata": {
        "colab": {
          "base_uri": "https://localhost:8080/"
        },
        "id": "5ZtCYPJVw7gI",
        "outputId": "1b02c0b9-a4a6-4d99-f2bb-41fb20319267"
      },
      "source": [
        "label.shape"
      ],
      "execution_count": 10,
      "outputs": [
        {
          "output_type": "execute_result",
          "data": {
            "text/plain": [
              "(23262,)"
            ]
          },
          "metadata": {
            "tags": []
          },
          "execution_count": 10
        }
      ]
    },
    {
      "cell_type": "code",
      "metadata": {
        "colab": {
          "base_uri": "https://localhost:8080/"
        },
        "id": "ofBLe8tTyUMl",
        "outputId": "442e1540-959e-49d5-fff6-5f654ebde98b"
      },
      "source": [
        "op = pred == label\r\n",
        "result = tf.math.count_nonzero(op)\r\n",
        "print(result.numpy()/op.shape*100)\r\n",
        "# accuracy : 0.9360..."
      ],
      "execution_count": 19,
      "outputs": [
        {
          "output_type": "stream",
          "text": [
            "[93.60330152]\n"
          ],
          "name": "stdout"
        }
      ]
    },
    {
      "cell_type": "code",
      "metadata": {
        "id": "ooyW-S1zKP7L"
      },
      "source": [
        ""
      ],
      "execution_count": null,
      "outputs": []
    }
  ]
}