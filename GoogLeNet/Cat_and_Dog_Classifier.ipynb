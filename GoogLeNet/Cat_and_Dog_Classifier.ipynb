{
  "nbformat": 4,
  "nbformat_minor": 0,
  "metadata": {
    "colab": {
      "name": "Cat and Dog Classifier.ipynb",
      "provenance": []
    },
    "kernelspec": {
      "name": "python3",
      "display_name": "Python 3"
    },
    "accelerator": "GPU"
  },
  "cells": [
    {
      "cell_type": "code",
      "metadata": {
        "id": "4WrXb-IftFUK"
      },
      "source": [
        "import tensorflow as tf\r\n",
        "import keras\r\n",
        "from keras import layers\r\n",
        "import numpy as np\r\n",
        "import matplotlib.pyplot as plt\r\n",
        "from tensorflow.keras.preprocessing.image import ImageDataGenerator"
      ],
      "execution_count": 19,
      "outputs": []
    },
    {
      "cell_type": "code",
      "metadata": {
        "id": "EVTwg_lNth3C"
      },
      "source": [
        "train_dir = '/content/drive/MyDrive/CatClassifier/train'"
      ],
      "execution_count": 2,
      "outputs": []
    },
    {
      "cell_type": "code",
      "metadata": {
        "id": "bQgS9HLXtrmp"
      },
      "source": [
        "train_datagen = ImageDataGenerator(validation_split=0.2,rescale=1./255)"
      ],
      "execution_count": 3,
      "outputs": []
    },
    {
      "cell_type": "code",
      "metadata": {
        "colab": {
          "base_uri": "https://localhost:8080/"
        },
        "id": "FGdpRC1ttsXI",
        "outputId": "a3d5acae-17f0-4b87-f9fa-9a17442f0c90"
      },
      "source": [
        "train_generator = train_datagen.flow_from_directory(\r\n",
        "    train_dir,\r\n",
        "    target_size=(224,224),\r\n",
        "    batch_size=32,\r\n",
        "    subset='training',\r\n",
        "    class_mode='binary',\r\n",
        ")\r\n",
        "\r\n",
        "validation_generator = train_datagen.flow_from_directory(\r\n",
        "    train_dir,\r\n",
        "    target_size=(224,224),\r\n",
        "    batch_size=32,\r\n",
        "    subset='validation',\r\n",
        "    class_mode='binary'\r\n",
        ")"
      ],
      "execution_count": 4,
      "outputs": [
        {
          "output_type": "stream",
          "text": [
            "Found 20001 images belonging to 2 classes.\n",
            "Found 5000 images belonging to 2 classes.\n"
          ],
          "name": "stdout"
        }
      ]
    },
    {
      "cell_type": "code",
      "metadata": {
        "id": "U-BpuqgGuPa2"
      },
      "source": [
        "def inception(input_tensor, filter_channels):\r\n",
        "    filter_1x1, filter_3x3_B, filter_3x3, filter_5x5_B, filter_5x5, max_pool_A = filter_channels\r\n",
        "    # filter_3x3_B : 3x3 컨볼루션 전(Before)의 1x1 컨볼루션의 필터 갯수\r\n",
        "    # filter_5x5_B : 5x5 컨볼루션 전(Before)의 1x1 컨볼루션의 필터 갯수\r\n",
        "    # max_pool_A : 3x3 Max Pooling층 이후(After)의 1x1 컨볼루션의 필터 갯수\r\n",
        "    branch_1 = keras.layers.Conv2D(filter_1x1, (1, 1), strides=1, padding='same', activation='relu')(input_tensor)\r\n",
        "    \r\n",
        "    branch_2 = keras.layers.Conv2D(filter_3x3_B, (1, 1), strides=1, padding='same', activation='relu')(input_tensor)\r\n",
        "    branch_2 = keras.layers.Conv2D(filter_3x3, (3, 3), strides=1, padding='same', activation='relu')(branch_2)\r\n",
        "\r\n",
        "    branch_3 = keras.layers.Conv2D(filter_5x5_B, (1, 1), strides=1, padding='same', activation='relu')(input_tensor)\r\n",
        "    branch_3 = keras.layers.Conv2D(filter_5x5, (5, 5), strides=1, padding='same', activation='relu')(branch_3)\r\n",
        "    \r\n",
        "    branch_4 = keras.layers.MaxPooling2D((3, 3), strides=1, padding='same')(input_tensor)\r\n",
        "    branch_4 = keras.layers.Conv2D(max_pool_A, (1, 1), strides=1, padding='same', activation='relu')(branch_4)\r\n",
        "    \r\n",
        "    DepthConcat = keras.layers.Concatenate()([branch_1, branch_2, branch_3, branch_4])\r\n",
        "    \r\n",
        "    return DepthConcat"
      ],
      "execution_count": 20,
      "outputs": []
    },
    {
      "cell_type": "code",
      "metadata": {
        "id": "F8X8brGLyrHP"
      },
      "source": [
        "def GoogLeNet(model_input, classes=2):\r\n",
        "    conv_1 = layers.Conv2D(64, (7, 7), strides=2, padding='same', activation='relu')(model_input)\r\n",
        "    pool_1 = layers.MaxPooling2D((3, 3), strides=2, padding='same')(conv_1) \r\n",
        "    LRN_1 = layers.Lambda(tf.nn.local_response_normalization)(pool_1) # (56, 56, 64)\r\n",
        "    \r\n",
        "    conv_2 = layers.Conv2D(64, (1, 1), strides=1, padding='valid', activation='relu')(LRN_1) # (56, 56, 64)\r\n",
        "    conv_3 = layers.Conv2D(192, (3, 3), strides=1, padding='same', activation='relu')(conv_2) # (56, 56, 192)\r\n",
        "    LRN_2 = layers.Lambda(tf.nn.local_response_normalization)(conv_3) # (56, 56, 192)\r\n",
        "    pool_2 = layers.MaxPooling2D((3, 3), strides=2, padding='same')(LRN_2) # (28, 28, 192)\r\n",
        "    \r\n",
        "    inception_3a = inception(pool_2, [64, 96, 128, 16, 32, 32]) # (28, 28, 256)\r\n",
        "    inception_3b = inception(inception_3a, [128, 128, 192, 32, 96, 64]) # (28, 28, 480)\r\n",
        "    \r\n",
        "    pool_3 = layers.MaxPooling2D((3, 3), strides=2, padding='same')(inception_3b) # (14, 14, 480)\r\n",
        "    \r\n",
        "    inception_4a = inception(pool_3, [192, 96, 208, 16, 48, 64]) # (14, 14, 512)\r\n",
        "    inception_4b = inception(inception_4a, [160, 112, 224, 24, 64, 64]) # (14, 14, 512)\r\n",
        "    inception_4c = inception(inception_4b, [128, 128, 256, 24, 64, 64]) # (14, 14, 512)\r\n",
        "    inception_4d = inception(inception_4c, [112, 144, 288, 32, 64, 64]) # (14, 14, 528)\r\n",
        "    inception_4e = inception(inception_4d, [256, 160, 320, 32, 128, 128]) # (14, 14, 832)\r\n",
        "    \r\n",
        "    pool_4 = layers.MaxPooling2D((3, 3), strides=2, padding='same')(inception_4e) # (7, 7, 832)\r\n",
        "    \r\n",
        "    inception_5a = inception(pool_4, [256, 160, 320, 32, 128, 128]) # (7, 7, 832)\r\n",
        "    inception_5b = inception(inception_5a, [384, 192, 384, 48, 128, 128]) # (7, 7, 1024)\r\n",
        "    \r\n",
        "    avg_pool = layers.GlobalAveragePooling2D()(inception_5b)\r\n",
        "    dropout = layers.Dropout(0.4)(avg_pool)\r\n",
        "    \r\n",
        "    linear = layers.Dense(1000, activation='relu')(dropout)\r\n",
        "    \r\n",
        "    model_output = layers.Dense(classes, activation='softmax', name='main_classifier')(linear) # 'softmax'\r\n",
        "    \r\n",
        "    # Auxiliary Classifier\r\n",
        "\r\n",
        "    # 데이터 양이 많지 않아 제거했음. 추후 tuning 등으로 추가 학습 고려 시 사용할 것.\r\n",
        "\r\n",
        "    # auxiliary_4a = layers.AveragePooling2D((5, 5), strides=3, padding='valid')(inception_4a)\r\n",
        "    # auxiliary_4a = layers.Conv2D(128, (1, 1), strides=1, padding='same', activation='relu')(auxiliary_4a)\r\n",
        "    # auxiliary_4a = layers.Flatten()(auxiliary_4a)\r\n",
        "    # auxiliary_4a = layers.Dense(1024, activation='relu')(auxiliary_4a)\r\n",
        "    # auxiliary_4a = layers.Dropout(0.7)(auxiliary_4a)\r\n",
        "    # auxiliary_4a = layers.Dense(classes, activation='softmax', name='auxiliary_4a')(auxiliary_4a)\r\n",
        "    \r\n",
        "    # auxiliary_4d = layers.AveragePooling2D((5, 5), strides=3, padding='valid')(inception_4d)\r\n",
        "    # auxiliary_4d = layers.Conv2D(128, (1, 1), strides=1, padding='same', activation='relu')(auxiliary_4d)\r\n",
        "    # auxiliary_4d = layers.Flatten()(auxiliary_4d)\r\n",
        "    # auxiliary_4d = layers.Dense(1024, activation='relu')(auxiliary_4d)\r\n",
        "    # auxiliary_4d = layers.Dropout(0.7)(auxiliary_4d)\r\n",
        "    # auxiliary_4d = layers.Dense(classes, activation='softmax', name='auxiliary_4d')(auxiliary_4d)\r\n",
        "    \r\n",
        "    \r\n",
        "    model = keras.Model(model_input, model_output)\r\n",
        "    \r\n",
        "    return model"
      ],
      "execution_count": 23,
      "outputs": []
    },
    {
      "cell_type": "code",
      "metadata": {
        "id": "9ZXepLH501l0"
      },
      "source": [
        "input_shape = (224,224,3)\r\n",
        "model_input = layers.Input(shape=input_shape)\r\n",
        "model = GoogLeNet(model_input)"
      ],
      "execution_count": 24,
      "outputs": []
    },
    {
      "cell_type": "code",
      "metadata": {
        "colab": {
          "base_uri": "https://localhost:8080/"
        },
        "id": "VtpDQ8Em03Zf",
        "outputId": "50f875dc-62ae-4760-f684-c24a7cd34c73"
      },
      "source": [
        "model.summary()"
      ],
      "execution_count": 25,
      "outputs": [
        {
          "output_type": "stream",
          "text": [
            "Model: \"model_1\"\n",
            "__________________________________________________________________________________________________\n",
            "Layer (type)                    Output Shape         Param #     Connected to                     \n",
            "==================================================================================================\n",
            "input_5 (InputLayer)            [(None, 224, 224, 3) 0                                            \n",
            "__________________________________________________________________________________________________\n",
            "conv2d_116 (Conv2D)             (None, 112, 112, 64) 9472        input_5[0][0]                    \n",
            "__________________________________________________________________________________________________\n",
            "max_pooling2d_26 (MaxPooling2D) (None, 56, 56, 64)   0           conv2d_116[0][0]                 \n",
            "__________________________________________________________________________________________________\n",
            "lambda_4 (Lambda)               (None, 56, 56, 64)   0           max_pooling2d_26[0][0]           \n",
            "__________________________________________________________________________________________________\n",
            "conv2d_117 (Conv2D)             (None, 56, 56, 64)   4160        lambda_4[0][0]                   \n",
            "__________________________________________________________________________________________________\n",
            "conv2d_118 (Conv2D)             (None, 56, 56, 192)  110784      conv2d_117[0][0]                 \n",
            "__________________________________________________________________________________________________\n",
            "lambda_5 (Lambda)               (None, 56, 56, 192)  0           conv2d_118[0][0]                 \n",
            "__________________________________________________________________________________________________\n",
            "max_pooling2d_27 (MaxPooling2D) (None, 28, 28, 192)  0           lambda_5[0][0]                   \n",
            "__________________________________________________________________________________________________\n",
            "conv2d_120 (Conv2D)             (None, 28, 28, 96)   18528       max_pooling2d_27[0][0]           \n",
            "__________________________________________________________________________________________________\n",
            "conv2d_122 (Conv2D)             (None, 28, 28, 16)   3088        max_pooling2d_27[0][0]           \n",
            "__________________________________________________________________________________________________\n",
            "max_pooling2d_28 (MaxPooling2D) (None, 28, 28, 192)  0           max_pooling2d_27[0][0]           \n",
            "__________________________________________________________________________________________________\n",
            "conv2d_119 (Conv2D)             (None, 28, 28, 64)   12352       max_pooling2d_27[0][0]           \n",
            "__________________________________________________________________________________________________\n",
            "conv2d_121 (Conv2D)             (None, 28, 28, 128)  110720      conv2d_120[0][0]                 \n",
            "__________________________________________________________________________________________________\n",
            "conv2d_123 (Conv2D)             (None, 28, 28, 32)   12832       conv2d_122[0][0]                 \n",
            "__________________________________________________________________________________________________\n",
            "conv2d_124 (Conv2D)             (None, 28, 28, 32)   6176        max_pooling2d_28[0][0]           \n",
            "__________________________________________________________________________________________________\n",
            "concatenate_18 (Concatenate)    (None, 28, 28, 256)  0           conv2d_119[0][0]                 \n",
            "                                                                 conv2d_121[0][0]                 \n",
            "                                                                 conv2d_123[0][0]                 \n",
            "                                                                 conv2d_124[0][0]                 \n",
            "__________________________________________________________________________________________________\n",
            "conv2d_126 (Conv2D)             (None, 28, 28, 128)  32896       concatenate_18[0][0]             \n",
            "__________________________________________________________________________________________________\n",
            "conv2d_128 (Conv2D)             (None, 28, 28, 32)   8224        concatenate_18[0][0]             \n",
            "__________________________________________________________________________________________________\n",
            "max_pooling2d_29 (MaxPooling2D) (None, 28, 28, 256)  0           concatenate_18[0][0]             \n",
            "__________________________________________________________________________________________________\n",
            "conv2d_125 (Conv2D)             (None, 28, 28, 128)  32896       concatenate_18[0][0]             \n",
            "__________________________________________________________________________________________________\n",
            "conv2d_127 (Conv2D)             (None, 28, 28, 192)  221376      conv2d_126[0][0]                 \n",
            "__________________________________________________________________________________________________\n",
            "conv2d_129 (Conv2D)             (None, 28, 28, 96)   76896       conv2d_128[0][0]                 \n",
            "__________________________________________________________________________________________________\n",
            "conv2d_130 (Conv2D)             (None, 28, 28, 64)   16448       max_pooling2d_29[0][0]           \n",
            "__________________________________________________________________________________________________\n",
            "concatenate_19 (Concatenate)    (None, 28, 28, 480)  0           conv2d_125[0][0]                 \n",
            "                                                                 conv2d_127[0][0]                 \n",
            "                                                                 conv2d_129[0][0]                 \n",
            "                                                                 conv2d_130[0][0]                 \n",
            "__________________________________________________________________________________________________\n",
            "max_pooling2d_30 (MaxPooling2D) (None, 14, 14, 480)  0           concatenate_19[0][0]             \n",
            "__________________________________________________________________________________________________\n",
            "conv2d_132 (Conv2D)             (None, 14, 14, 96)   46176       max_pooling2d_30[0][0]           \n",
            "__________________________________________________________________________________________________\n",
            "conv2d_134 (Conv2D)             (None, 14, 14, 16)   7696        max_pooling2d_30[0][0]           \n",
            "__________________________________________________________________________________________________\n",
            "max_pooling2d_31 (MaxPooling2D) (None, 14, 14, 480)  0           max_pooling2d_30[0][0]           \n",
            "__________________________________________________________________________________________________\n",
            "conv2d_131 (Conv2D)             (None, 14, 14, 192)  92352       max_pooling2d_30[0][0]           \n",
            "__________________________________________________________________________________________________\n",
            "conv2d_133 (Conv2D)             (None, 14, 14, 208)  179920      conv2d_132[0][0]                 \n",
            "__________________________________________________________________________________________________\n",
            "conv2d_135 (Conv2D)             (None, 14, 14, 48)   19248       conv2d_134[0][0]                 \n",
            "__________________________________________________________________________________________________\n",
            "conv2d_136 (Conv2D)             (None, 14, 14, 64)   30784       max_pooling2d_31[0][0]           \n",
            "__________________________________________________________________________________________________\n",
            "concatenate_20 (Concatenate)    (None, 14, 14, 512)  0           conv2d_131[0][0]                 \n",
            "                                                                 conv2d_133[0][0]                 \n",
            "                                                                 conv2d_135[0][0]                 \n",
            "                                                                 conv2d_136[0][0]                 \n",
            "__________________________________________________________________________________________________\n",
            "conv2d_138 (Conv2D)             (None, 14, 14, 112)  57456       concatenate_20[0][0]             \n",
            "__________________________________________________________________________________________________\n",
            "conv2d_140 (Conv2D)             (None, 14, 14, 24)   12312       concatenate_20[0][0]             \n",
            "__________________________________________________________________________________________________\n",
            "max_pooling2d_32 (MaxPooling2D) (None, 14, 14, 512)  0           concatenate_20[0][0]             \n",
            "__________________________________________________________________________________________________\n",
            "conv2d_137 (Conv2D)             (None, 14, 14, 160)  82080       concatenate_20[0][0]             \n",
            "__________________________________________________________________________________________________\n",
            "conv2d_139 (Conv2D)             (None, 14, 14, 224)  226016      conv2d_138[0][0]                 \n",
            "__________________________________________________________________________________________________\n",
            "conv2d_141 (Conv2D)             (None, 14, 14, 64)   38464       conv2d_140[0][0]                 \n",
            "__________________________________________________________________________________________________\n",
            "conv2d_142 (Conv2D)             (None, 14, 14, 64)   32832       max_pooling2d_32[0][0]           \n",
            "__________________________________________________________________________________________________\n",
            "concatenate_21 (Concatenate)    (None, 14, 14, 512)  0           conv2d_137[0][0]                 \n",
            "                                                                 conv2d_139[0][0]                 \n",
            "                                                                 conv2d_141[0][0]                 \n",
            "                                                                 conv2d_142[0][0]                 \n",
            "__________________________________________________________________________________________________\n",
            "conv2d_144 (Conv2D)             (None, 14, 14, 128)  65664       concatenate_21[0][0]             \n",
            "__________________________________________________________________________________________________\n",
            "conv2d_146 (Conv2D)             (None, 14, 14, 24)   12312       concatenate_21[0][0]             \n",
            "__________________________________________________________________________________________________\n",
            "max_pooling2d_33 (MaxPooling2D) (None, 14, 14, 512)  0           concatenate_21[0][0]             \n",
            "__________________________________________________________________________________________________\n",
            "conv2d_143 (Conv2D)             (None, 14, 14, 128)  65664       concatenate_21[0][0]             \n",
            "__________________________________________________________________________________________________\n",
            "conv2d_145 (Conv2D)             (None, 14, 14, 256)  295168      conv2d_144[0][0]                 \n",
            "__________________________________________________________________________________________________\n",
            "conv2d_147 (Conv2D)             (None, 14, 14, 64)   38464       conv2d_146[0][0]                 \n",
            "__________________________________________________________________________________________________\n",
            "conv2d_148 (Conv2D)             (None, 14, 14, 64)   32832       max_pooling2d_33[0][0]           \n",
            "__________________________________________________________________________________________________\n",
            "concatenate_22 (Concatenate)    (None, 14, 14, 512)  0           conv2d_143[0][0]                 \n",
            "                                                                 conv2d_145[0][0]                 \n",
            "                                                                 conv2d_147[0][0]                 \n",
            "                                                                 conv2d_148[0][0]                 \n",
            "__________________________________________________________________________________________________\n",
            "conv2d_150 (Conv2D)             (None, 14, 14, 144)  73872       concatenate_22[0][0]             \n",
            "__________________________________________________________________________________________________\n",
            "conv2d_152 (Conv2D)             (None, 14, 14, 32)   16416       concatenate_22[0][0]             \n",
            "__________________________________________________________________________________________________\n",
            "max_pooling2d_34 (MaxPooling2D) (None, 14, 14, 512)  0           concatenate_22[0][0]             \n",
            "__________________________________________________________________________________________________\n",
            "conv2d_149 (Conv2D)             (None, 14, 14, 112)  57456       concatenate_22[0][0]             \n",
            "__________________________________________________________________________________________________\n",
            "conv2d_151 (Conv2D)             (None, 14, 14, 288)  373536      conv2d_150[0][0]                 \n",
            "__________________________________________________________________________________________________\n",
            "conv2d_153 (Conv2D)             (None, 14, 14, 64)   51264       conv2d_152[0][0]                 \n",
            "__________________________________________________________________________________________________\n",
            "conv2d_154 (Conv2D)             (None, 14, 14, 64)   32832       max_pooling2d_34[0][0]           \n",
            "__________________________________________________________________________________________________\n",
            "concatenate_23 (Concatenate)    (None, 14, 14, 528)  0           conv2d_149[0][0]                 \n",
            "                                                                 conv2d_151[0][0]                 \n",
            "                                                                 conv2d_153[0][0]                 \n",
            "                                                                 conv2d_154[0][0]                 \n",
            "__________________________________________________________________________________________________\n",
            "conv2d_156 (Conv2D)             (None, 14, 14, 160)  84640       concatenate_23[0][0]             \n",
            "__________________________________________________________________________________________________\n",
            "conv2d_158 (Conv2D)             (None, 14, 14, 32)   16928       concatenate_23[0][0]             \n",
            "__________________________________________________________________________________________________\n",
            "max_pooling2d_35 (MaxPooling2D) (None, 14, 14, 528)  0           concatenate_23[0][0]             \n",
            "__________________________________________________________________________________________________\n",
            "conv2d_155 (Conv2D)             (None, 14, 14, 256)  135424      concatenate_23[0][0]             \n",
            "__________________________________________________________________________________________________\n",
            "conv2d_157 (Conv2D)             (None, 14, 14, 320)  461120      conv2d_156[0][0]                 \n",
            "__________________________________________________________________________________________________\n",
            "conv2d_159 (Conv2D)             (None, 14, 14, 128)  102528      conv2d_158[0][0]                 \n",
            "__________________________________________________________________________________________________\n",
            "conv2d_160 (Conv2D)             (None, 14, 14, 128)  67712       max_pooling2d_35[0][0]           \n",
            "__________________________________________________________________________________________________\n",
            "concatenate_24 (Concatenate)    (None, 14, 14, 832)  0           conv2d_155[0][0]                 \n",
            "                                                                 conv2d_157[0][0]                 \n",
            "                                                                 conv2d_159[0][0]                 \n",
            "                                                                 conv2d_160[0][0]                 \n",
            "__________________________________________________________________________________________________\n",
            "max_pooling2d_36 (MaxPooling2D) (None, 7, 7, 832)    0           concatenate_24[0][0]             \n",
            "__________________________________________________________________________________________________\n",
            "conv2d_162 (Conv2D)             (None, 7, 7, 160)    133280      max_pooling2d_36[0][0]           \n",
            "__________________________________________________________________________________________________\n",
            "conv2d_164 (Conv2D)             (None, 7, 7, 32)     26656       max_pooling2d_36[0][0]           \n",
            "__________________________________________________________________________________________________\n",
            "max_pooling2d_37 (MaxPooling2D) (None, 7, 7, 832)    0           max_pooling2d_36[0][0]           \n",
            "__________________________________________________________________________________________________\n",
            "conv2d_161 (Conv2D)             (None, 7, 7, 256)    213248      max_pooling2d_36[0][0]           \n",
            "__________________________________________________________________________________________________\n",
            "conv2d_163 (Conv2D)             (None, 7, 7, 320)    461120      conv2d_162[0][0]                 \n",
            "__________________________________________________________________________________________________\n",
            "conv2d_165 (Conv2D)             (None, 7, 7, 128)    102528      conv2d_164[0][0]                 \n",
            "__________________________________________________________________________________________________\n",
            "conv2d_166 (Conv2D)             (None, 7, 7, 128)    106624      max_pooling2d_37[0][0]           \n",
            "__________________________________________________________________________________________________\n",
            "concatenate_25 (Concatenate)    (None, 7, 7, 832)    0           conv2d_161[0][0]                 \n",
            "                                                                 conv2d_163[0][0]                 \n",
            "                                                                 conv2d_165[0][0]                 \n",
            "                                                                 conv2d_166[0][0]                 \n",
            "__________________________________________________________________________________________________\n",
            "conv2d_168 (Conv2D)             (None, 7, 7, 192)    159936      concatenate_25[0][0]             \n",
            "__________________________________________________________________________________________________\n",
            "conv2d_170 (Conv2D)             (None, 7, 7, 48)     39984       concatenate_25[0][0]             \n",
            "__________________________________________________________________________________________________\n",
            "max_pooling2d_38 (MaxPooling2D) (None, 7, 7, 832)    0           concatenate_25[0][0]             \n",
            "__________________________________________________________________________________________________\n",
            "conv2d_167 (Conv2D)             (None, 7, 7, 384)    319872      concatenate_25[0][0]             \n",
            "__________________________________________________________________________________________________\n",
            "conv2d_169 (Conv2D)             (None, 7, 7, 384)    663936      conv2d_168[0][0]                 \n",
            "__________________________________________________________________________________________________\n",
            "conv2d_171 (Conv2D)             (None, 7, 7, 128)    153728      conv2d_170[0][0]                 \n",
            "__________________________________________________________________________________________________\n",
            "conv2d_172 (Conv2D)             (None, 7, 7, 128)    106624      max_pooling2d_38[0][0]           \n",
            "__________________________________________________________________________________________________\n",
            "concatenate_26 (Concatenate)    (None, 7, 7, 1024)   0           conv2d_167[0][0]                 \n",
            "                                                                 conv2d_169[0][0]                 \n",
            "                                                                 conv2d_171[0][0]                 \n",
            "                                                                 conv2d_172[0][0]                 \n",
            "__________________________________________________________________________________________________\n",
            "global_average_pooling2d_2 (Glo (None, 1024)         0           concatenate_26[0][0]             \n",
            "__________________________________________________________________________________________________\n",
            "dropout_4 (Dropout)             (None, 1024)         0           global_average_pooling2d_2[0][0] \n",
            "__________________________________________________________________________________________________\n",
            "dense_4 (Dense)                 (None, 1000)         1025000     dropout_4[0][0]                  \n",
            "__________________________________________________________________________________________________\n",
            "main_classifier (Dense)         (None, 2)            2002        dense_4[0][0]                    \n",
            "==================================================================================================\n",
            "Total params: 7,000,554\n",
            "Trainable params: 7,000,554\n",
            "Non-trainable params: 0\n",
            "__________________________________________________________________________________________________\n"
          ],
          "name": "stdout"
        }
      ]
    },
    {
      "cell_type": "code",
      "metadata": {
        "id": "ReP2qwmz18In"
      },
      "source": [
        "model.compile(loss='sparse_categorical_crossentropy',\r\n",
        "              optimizer=keras.optimizers.SGD(lr=0.001, momentum=0.9, decay = 0.0005),\r\n",
        "              metrics=['accuracy'])"
      ],
      "execution_count": 27,
      "outputs": []
    },
    {
      "cell_type": "code",
      "metadata": {
        "colab": {
          "base_uri": "https://localhost:8080/"
        },
        "id": "HbA9HCj23vFw",
        "outputId": "3c95ab60-08d2-4d1d-cf87-f54cce147a4b"
      },
      "source": [
        "hist = model.fit_generator(train_generator,\r\n",
        "                 steps_per_epoch=100, \r\n",
        "                 epochs = 15 , \r\n",
        "                 validation_data=validation_generator ,\r\n",
        "                 validation_steps=50 ,\r\n",
        "                 verbose=1)"
      ],
      "execution_count": 28,
      "outputs": [
        {
          "output_type": "stream",
          "text": [
            "/usr/local/lib/python3.7/dist-packages/tensorflow/python/keras/engine/training.py:1844: UserWarning: `Model.fit_generator` is deprecated and will be removed in a future version. Please use `Model.fit`, which supports generators.\n",
            "  warnings.warn('`Model.fit_generator` is deprecated and '\n"
          ],
          "name": "stderr"
        },
        {
          "output_type": "stream",
          "text": [
            "Epoch 1/15\n",
            "100/100 [==============================] - 2740s 27s/step - loss: 0.6932 - accuracy: 0.5001 - val_loss: 0.6931 - val_accuracy: 0.4988\n",
            "Epoch 2/15\n",
            "100/100 [==============================] - 2048s 21s/step - loss: 0.6928 - accuracy: 0.5304 - val_loss: 0.6933 - val_accuracy: 0.5013\n",
            "Epoch 3/15\n",
            "100/100 [==============================] - 1641s 16s/step - loss: 0.6935 - accuracy: 0.4976 - val_loss: 0.6931 - val_accuracy: 0.4931\n",
            "Epoch 4/15\n",
            "100/100 [==============================] - 1288s 13s/step - loss: 0.6932 - accuracy: 0.5068 - val_loss: 0.6930 - val_accuracy: 0.5150\n",
            "Epoch 5/15\n",
            "100/100 [==============================] - 1004s 10s/step - loss: 0.6931 - accuracy: 0.4955 - val_loss: 0.6931 - val_accuracy: 0.4938\n",
            "Epoch 6/15\n",
            "100/100 [==============================] - 843s 8s/step - loss: 0.6930 - accuracy: 0.5175 - val_loss: 0.6928 - val_accuracy: 0.5150\n",
            "Epoch 7/15\n",
            "100/100 [==============================] - 660s 7s/step - loss: 0.6929 - accuracy: 0.5119 - val_loss: 0.6933 - val_accuracy: 0.4894\n",
            "Epoch 8/15\n",
            "100/100 [==============================] - 567s 6s/step - loss: 0.6932 - accuracy: 0.4946 - val_loss: 0.6930 - val_accuracy: 0.4888\n",
            "Epoch 9/15\n",
            "100/100 [==============================] - 456s 5s/step - loss: 0.6929 - accuracy: 0.5217 - val_loss: 0.6931 - val_accuracy: 0.4994\n",
            "Epoch 10/15\n",
            "100/100 [==============================] - 393s 4s/step - loss: 0.6931 - accuracy: 0.4967 - val_loss: 0.6927 - val_accuracy: 0.5738\n",
            "Epoch 11/15\n",
            "100/100 [==============================] - 350s 4s/step - loss: 0.6928 - accuracy: 0.5349 - val_loss: 0.6925 - val_accuracy: 0.6119\n",
            "Epoch 12/15\n",
            "100/100 [==============================] - 266s 3s/step - loss: 0.6927 - accuracy: 0.5403 - val_loss: 0.6923 - val_accuracy: 0.6137\n",
            "Epoch 13/15\n",
            "100/100 [==============================] - 236s 2s/step - loss: 0.6924 - accuracy: 0.5524 - val_loss: 0.6923 - val_accuracy: 0.5506\n",
            "Epoch 14/15\n",
            "100/100 [==============================] - 196s 2s/step - loss: 0.6923 - accuracy: 0.5559 - val_loss: 0.6921 - val_accuracy: 0.5369\n",
            "Epoch 15/15\n",
            "100/100 [==============================] - 167s 2s/step - loss: 0.6922 - accuracy: 0.5359 - val_loss: 0.6918 - val_accuracy: 0.5350\n"
          ],
          "name": "stdout"
        }
      ]
    },
    {
      "cell_type": "code",
      "metadata": {
        "colab": {
          "base_uri": "https://localhost:8080/"
        },
        "id": "TFnHkD-k-9lQ",
        "outputId": "f6d4877d-0c09-4572-feac-c82c97d994de"
      },
      "source": [
        "model.save('/content/drive/MyDrive/CatClassifier/GoogLeNet')"
      ],
      "execution_count": 29,
      "outputs": [
        {
          "output_type": "stream",
          "text": [
            "INFO:tensorflow:Assets written to: /content/drive/MyDrive/CatClassifier/GoogLeNet/assets\n"
          ],
          "name": "stdout"
        }
      ]
    },
    {
      "cell_type": "code",
      "metadata": {
        "id": "R_QiLQC0_HQc"
      },
      "source": [
        "model.save('/content/drive/MyDrive/CatClassifier/GoogLeNet/GoogLeNet_ver0.h5')"
      ],
      "execution_count": 30,
      "outputs": []
    },
    {
      "cell_type": "code",
      "metadata": {
        "id": "ikQY9YrR_NZV"
      },
      "source": [
        ""
      ],
      "execution_count": null,
      "outputs": []
    }
  ]
}