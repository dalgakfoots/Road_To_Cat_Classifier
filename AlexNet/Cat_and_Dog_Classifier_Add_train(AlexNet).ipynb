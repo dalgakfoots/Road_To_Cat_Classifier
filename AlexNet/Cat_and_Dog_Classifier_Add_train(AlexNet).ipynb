{
  "nbformat": 4,
  "nbformat_minor": 0,
  "metadata": {
    "colab": {
      "name": "Cat and Dog Classifier Add train(AlexNet).ipynb",
      "provenance": [],
      "collapsed_sections": [],
      "machine_shape": "hm"
    },
    "kernelspec": {
      "name": "python3",
      "display_name": "Python 3"
    },
    "accelerator": "GPU"
  },
  "cells": [
    {
      "cell_type": "code",
      "metadata": {
        "id": "WNvZrfTJfND0"
      },
      "source": [
        "import tensorflow\r\n",
        "import keras\r\n",
        "\r\n",
        "import numpy as np\r\n",
        "import matplotlib.pyplot as plt\r\n",
        "from tensorflow.keras.preprocessing.image import ImageDataGenerator"
      ],
      "execution_count": 1,
      "outputs": []
    },
    {
      "cell_type": "code",
      "metadata": {
        "id": "6_hooHQvfWSQ"
      },
      "source": [
        "train_dir = '/content/drive/MyDrive/CatClassifier/train'"
      ],
      "execution_count": 2,
      "outputs": []
    },
    {
      "cell_type": "code",
      "metadata": {
        "id": "HNIQGIRugMr_"
      },
      "source": [
        "train_datagen = ImageDataGenerator(validation_split=0.2,rescale=1./255)"
      ],
      "execution_count": 3,
      "outputs": []
    },
    {
      "cell_type": "code",
      "metadata": {
        "id": "2ZObHhqGfXev",
        "colab": {
          "base_uri": "https://localhost:8080/"
        },
        "outputId": "1d624b76-17d5-4114-c468-b1fda85471bf"
      },
      "source": [
        "train_generator = train_datagen.flow_from_directory(\r\n",
        "    train_dir,\r\n",
        "    target_size=(227,227),\r\n",
        "    batch_size=32,\r\n",
        "    subset='training',\r\n",
        "    class_mode='binary',\r\n",
        ")\r\n",
        "\r\n",
        "validation_generator = train_datagen.flow_from_directory(\r\n",
        "    train_dir,\r\n",
        "    target_size=(227,227),\r\n",
        "    batch_size=32,\r\n",
        "    subset='validation',\r\n",
        "    class_mode='binary'\r\n",
        ")\r\n"
      ],
      "execution_count": 4,
      "outputs": [
        {
          "output_type": "stream",
          "text": [
            "Found 20001 images belonging to 2 classes.\n",
            "Found 5000 images belonging to 2 classes.\n"
          ],
          "name": "stdout"
        }
      ]
    },
    {
      "cell_type": "code",
      "metadata": {
        "id": "Iq0kuK2Ysbfz"
      },
      "source": [
        "# 추가 학습을 위해 미리 저장한 모델을 불러옴\r\n",
        "additional_model = keras.models.load_model('/content/drive/MyDrive/CatClassifier/AlexNet')"
      ],
      "execution_count": 5,
      "outputs": []
    },
    {
      "cell_type": "code",
      "metadata": {
        "colab": {
          "base_uri": "https://localhost:8080/"
        },
        "id": "mTaI9ismsmJx",
        "outputId": "e5df24dd-1883-4b94-c0ce-70a64a3b1545"
      },
      "source": [
        "additional_model.summary()"
      ],
      "execution_count": 6,
      "outputs": [
        {
          "output_type": "stream",
          "text": [
            "Model: \"sequential_1\"\n",
            "_________________________________________________________________\n",
            "Layer (type)                 Output Shape              Param #   \n",
            "=================================================================\n",
            "conv2d_5 (Conv2D)            (None, 55, 55, 96)        34944     \n",
            "_________________________________________________________________\n",
            "batch_normalization_5 (Batch (None, 55, 55, 96)        384       \n",
            "_________________________________________________________________\n",
            "max_pooling2d_3 (MaxPooling2 (None, 27, 27, 96)        0         \n",
            "_________________________________________________________________\n",
            "conv2d_6 (Conv2D)            (None, 27, 27, 256)       614656    \n",
            "_________________________________________________________________\n",
            "batch_normalization_6 (Batch (None, 27, 27, 256)       1024      \n",
            "_________________________________________________________________\n",
            "max_pooling2d_4 (MaxPooling2 (None, 13, 13, 256)       0         \n",
            "_________________________________________________________________\n",
            "conv2d_7 (Conv2D)            (None, 13, 13, 384)       885120    \n",
            "_________________________________________________________________\n",
            "batch_normalization_7 (Batch (None, 13, 13, 384)       1536      \n",
            "_________________________________________________________________\n",
            "conv2d_8 (Conv2D)            (None, 13, 13, 384)       1327488   \n",
            "_________________________________________________________________\n",
            "batch_normalization_8 (Batch (None, 13, 13, 384)       1536      \n",
            "_________________________________________________________________\n",
            "conv2d_9 (Conv2D)            (None, 13, 13, 256)       884992    \n",
            "_________________________________________________________________\n",
            "batch_normalization_9 (Batch (None, 13, 13, 256)       1024      \n",
            "_________________________________________________________________\n",
            "max_pooling2d_5 (MaxPooling2 (None, 6, 6, 256)         0         \n",
            "_________________________________________________________________\n",
            "flatten_1 (Flatten)          (None, 9216)              0         \n",
            "_________________________________________________________________\n",
            "dense_3 (Dense)              (None, 4096)              37752832  \n",
            "_________________________________________________________________\n",
            "dropout_2 (Dropout)          (None, 4096)              0         \n",
            "_________________________________________________________________\n",
            "dense_4 (Dense)              (None, 4096)              16781312  \n",
            "_________________________________________________________________\n",
            "dropout_3 (Dropout)          (None, 4096)              0         \n",
            "_________________________________________________________________\n",
            "dense_5 (Dense)              (None, 2)                 8194      \n",
            "=================================================================\n",
            "Total params: 58,295,042\n",
            "Trainable params: 58,292,290\n",
            "Non-trainable params: 2,752\n",
            "_________________________________________________________________\n"
          ],
          "name": "stdout"
        }
      ]
    },
    {
      "cell_type": "code",
      "metadata": {
        "id": "DeqtzQQmh73W"
      },
      "source": [
        "additional_model.compile(loss='sparse_categorical_crossentropy',\r\n",
        "              optimizer=keras.optimizers.SGD(lr=0.001, momentum=0.9, decay = 0.0005),\r\n",
        "              metrics=['accuracy'])"
      ],
      "execution_count": 7,
      "outputs": []
    },
    {
      "cell_type": "code",
      "metadata": {
        "id": "A9Rb72syrIfr"
      },
      "source": [
        "from keras.callbacks import ModelCheckpoint, EarlyStopping"
      ],
      "execution_count": 8,
      "outputs": []
    },
    {
      "cell_type": "code",
      "metadata": {
        "id": "nQ3kYBdJteRa"
      },
      "source": [
        "checkpoint = ModelCheckpoint(filepath='/content/drive/MyDrive/CatClassifier/AlexNet',\r\n",
        "                             monitor='val_accuracy',\r\n",
        "                             verbose=1,\r\n",
        "                             save_best_only=True,\r\n",
        "                             save_weights_only=False,\r\n",
        "                             mode='auto',)\r\n",
        "\r\n",
        "early = EarlyStopping(monitor='val_loss', min_delta=0.0001, patience = 5, verbose = 1, mode= 'auto')"
      ],
      "execution_count": 9,
      "outputs": []
    },
    {
      "cell_type": "code",
      "metadata": {
        "colab": {
          "base_uri": "https://localhost:8080/"
        },
        "id": "E_0pKkUoiPQX",
        "outputId": "39baaa25-1e1d-418d-9da3-a25173851e99"
      },
      "source": [
        "hist = additional_model.fit(train_generator,\r\n",
        "                 steps_per_epoch=100, \r\n",
        "                 epochs = 100 , \r\n",
        "                 validation_data=validation_generator ,\r\n",
        "                 validation_steps=50 ,\r\n",
        "                 verbose=1,\r\n",
        "                 callbacks=[checkpoint, early])"
      ],
      "execution_count": 10,
      "outputs": [
        {
          "output_type": "stream",
          "text": [
            "Epoch 1/100\n",
            "100/100 [==============================] - 3826s 38s/step - loss: 0.5904 - accuracy: 0.7082 - val_loss: 0.5511 - val_accuracy: 0.7100\n",
            "\n",
            "Epoch 00001: val_accuracy improved from -inf to 0.71000, saving model to /content/drive/MyDrive/CatClassifier/AlexNet\n",
            "INFO:tensorflow:Assets written to: /content/drive/MyDrive/CatClassifier/AlexNet/assets\n",
            "Epoch 2/100\n",
            "100/100 [==============================] - 2994s 30s/step - loss: 0.5732 - accuracy: 0.7139 - val_loss: 0.5201 - val_accuracy: 0.7381\n",
            "\n",
            "Epoch 00002: val_accuracy improved from 0.71000 to 0.73813, saving model to /content/drive/MyDrive/CatClassifier/AlexNet\n",
            "INFO:tensorflow:Assets written to: /content/drive/MyDrive/CatClassifier/AlexNet/assets\n",
            "Epoch 3/100\n",
            "100/100 [==============================] - 2464s 25s/step - loss: 0.5942 - accuracy: 0.7169 - val_loss: 0.5128 - val_accuracy: 0.7487\n",
            "\n",
            "Epoch 00003: val_accuracy improved from 0.73813 to 0.74875, saving model to /content/drive/MyDrive/CatClassifier/AlexNet\n",
            "INFO:tensorflow:Assets written to: /content/drive/MyDrive/CatClassifier/AlexNet/assets\n",
            "Epoch 4/100\n",
            "100/100 [==============================] - 1957s 20s/step - loss: 0.5331 - accuracy: 0.7372 - val_loss: 0.5873 - val_accuracy: 0.7044\n",
            "\n",
            "Epoch 00004: val_accuracy did not improve from 0.74875\n",
            "Epoch 5/100\n",
            "100/100 [==============================] - 1565s 16s/step - loss: 0.5318 - accuracy: 0.7421 - val_loss: 0.5262 - val_accuracy: 0.7175\n",
            "\n",
            "Epoch 00005: val_accuracy did not improve from 0.74875\n",
            "Epoch 6/100\n",
            "100/100 [==============================] - 1310s 13s/step - loss: 0.4945 - accuracy: 0.7638 - val_loss: 0.5031 - val_accuracy: 0.7644\n",
            "\n",
            "Epoch 00006: val_accuracy improved from 0.74875 to 0.76437, saving model to /content/drive/MyDrive/CatClassifier/AlexNet\n",
            "INFO:tensorflow:Assets written to: /content/drive/MyDrive/CatClassifier/AlexNet/assets\n",
            "Epoch 7/100\n",
            "100/100 [==============================] - 1064s 11s/step - loss: 0.5005 - accuracy: 0.7517 - val_loss: 0.4894 - val_accuracy: 0.7594\n",
            "\n",
            "Epoch 00007: val_accuracy did not improve from 0.76437\n",
            "Epoch 8/100\n",
            "100/100 [==============================] - 886s 9s/step - loss: 0.4773 - accuracy: 0.7694 - val_loss: 0.5057 - val_accuracy: 0.7475\n",
            "\n",
            "Epoch 00008: val_accuracy did not improve from 0.76437\n",
            "Epoch 9/100\n",
            "100/100 [==============================] - 688s 7s/step - loss: 0.4568 - accuracy: 0.7910 - val_loss: 0.4478 - val_accuracy: 0.7906\n",
            "\n",
            "Epoch 00009: val_accuracy improved from 0.76437 to 0.79062, saving model to /content/drive/MyDrive/CatClassifier/AlexNet\n",
            "INFO:tensorflow:Assets written to: /content/drive/MyDrive/CatClassifier/AlexNet/assets\n",
            "Epoch 10/100\n",
            "100/100 [==============================] - 587s 6s/step - loss: 0.4413 - accuracy: 0.7976 - val_loss: 0.4588 - val_accuracy: 0.7812\n",
            "\n",
            "Epoch 00010: val_accuracy did not improve from 0.79062\n",
            "Epoch 11/100\n",
            "100/100 [==============================] - 487s 5s/step - loss: 0.4420 - accuracy: 0.7910 - val_loss: 0.4606 - val_accuracy: 0.7719\n",
            "\n",
            "Epoch 00011: val_accuracy did not improve from 0.79062\n",
            "Epoch 12/100\n",
            "100/100 [==============================] - 431s 4s/step - loss: 0.4382 - accuracy: 0.8025 - val_loss: 0.5459 - val_accuracy: 0.7094\n",
            "\n",
            "Epoch 00012: val_accuracy did not improve from 0.79062\n",
            "Epoch 13/100\n",
            "100/100 [==============================] - 344s 3s/step - loss: 0.4259 - accuracy: 0.8100 - val_loss: 0.4436 - val_accuracy: 0.7912\n",
            "\n",
            "Epoch 00013: val_accuracy improved from 0.79062 to 0.79125, saving model to /content/drive/MyDrive/CatClassifier/AlexNet\n",
            "INFO:tensorflow:Assets written to: /content/drive/MyDrive/CatClassifier/AlexNet/assets\n",
            "Epoch 14/100\n",
            "100/100 [==============================] - 268s 3s/step - loss: 0.3835 - accuracy: 0.8232 - val_loss: 0.4939 - val_accuracy: 0.7625\n",
            "\n",
            "Epoch 00014: val_accuracy did not improve from 0.79125\n",
            "Epoch 15/100\n",
            "100/100 [==============================] - 245s 2s/step - loss: 0.3818 - accuracy: 0.8195 - val_loss: 0.5438 - val_accuracy: 0.7588\n",
            "\n",
            "Epoch 00015: val_accuracy did not improve from 0.79125\n",
            "Epoch 16/100\n",
            "100/100 [==============================] - 204s 2s/step - loss: 0.3838 - accuracy: 0.8212 - val_loss: 0.4143 - val_accuracy: 0.8087\n",
            "\n",
            "Epoch 00016: val_accuracy improved from 0.79125 to 0.80875, saving model to /content/drive/MyDrive/CatClassifier/AlexNet\n",
            "INFO:tensorflow:Assets written to: /content/drive/MyDrive/CatClassifier/AlexNet/assets\n",
            "Epoch 17/100\n",
            "100/100 [==============================] - 162s 2s/step - loss: 0.3694 - accuracy: 0.8379 - val_loss: 0.5043 - val_accuracy: 0.7513\n",
            "\n",
            "Epoch 00017: val_accuracy did not improve from 0.80875\n",
            "Epoch 18/100\n",
            "100/100 [==============================] - 152s 2s/step - loss: 0.3790 - accuracy: 0.8290 - val_loss: 0.5390 - val_accuracy: 0.7312\n",
            "\n",
            "Epoch 00018: val_accuracy did not improve from 0.80875\n",
            "Epoch 19/100\n",
            "100/100 [==============================] - 124s 1s/step - loss: 0.4013 - accuracy: 0.8113 - val_loss: 0.4245 - val_accuracy: 0.8019\n",
            "\n",
            "Epoch 00019: val_accuracy did not improve from 0.80875\n",
            "Epoch 20/100\n",
            "100/100 [==============================] - 101s 1s/step - loss: 0.3733 - accuracy: 0.8356 - val_loss: 0.3953 - val_accuracy: 0.8256\n",
            "\n",
            "Epoch 00020: val_accuracy improved from 0.80875 to 0.82563, saving model to /content/drive/MyDrive/CatClassifier/AlexNet\n",
            "INFO:tensorflow:Assets written to: /content/drive/MyDrive/CatClassifier/AlexNet/assets\n",
            "Epoch 21/100\n",
            "100/100 [==============================] - 94s 932ms/step - loss: 0.3419 - accuracy: 0.8490 - val_loss: 0.6664 - val_accuracy: 0.6831\n",
            "\n",
            "Epoch 00021: val_accuracy did not improve from 0.82563\n",
            "Epoch 22/100\n",
            "100/100 [==============================] - 88s 869ms/step - loss: 0.3421 - accuracy: 0.8509 - val_loss: 0.6396 - val_accuracy: 0.6888\n",
            "\n",
            "Epoch 00022: val_accuracy did not improve from 0.82563\n",
            "Epoch 23/100\n",
            "100/100 [==============================] - 60s 604ms/step - loss: 0.3499 - accuracy: 0.8449 - val_loss: 0.4408 - val_accuracy: 0.7881\n",
            "\n",
            "Epoch 00023: val_accuracy did not improve from 0.82563\n",
            "Epoch 24/100\n",
            "100/100 [==============================] - 56s 555ms/step - loss: 0.3440 - accuracy: 0.8583 - val_loss: 0.4484 - val_accuracy: 0.7987\n",
            "\n",
            "Epoch 00024: val_accuracy did not improve from 0.82563\n",
            "Epoch 25/100\n",
            "100/100 [==============================] - 54s 533ms/step - loss: 0.3259 - accuracy: 0.8595 - val_loss: 0.3727 - val_accuracy: 0.8319\n",
            "\n",
            "Epoch 00025: val_accuracy improved from 0.82563 to 0.83188, saving model to /content/drive/MyDrive/CatClassifier/AlexNet\n",
            "INFO:tensorflow:Assets written to: /content/drive/MyDrive/CatClassifier/AlexNet/assets\n",
            "Epoch 26/100\n",
            "100/100 [==============================] - 49s 483ms/step - loss: 0.3218 - accuracy: 0.8605 - val_loss: 0.4494 - val_accuracy: 0.7881\n",
            "\n",
            "Epoch 00026: val_accuracy did not improve from 0.83188\n",
            "Epoch 27/100\n",
            "100/100 [==============================] - 33s 333ms/step - loss: 0.3066 - accuracy: 0.8632 - val_loss: 0.5105 - val_accuracy: 0.7781\n",
            "\n",
            "Epoch 00027: val_accuracy did not improve from 0.83188\n",
            "Epoch 28/100\n",
            "100/100 [==============================] - 44s 438ms/step - loss: 0.3022 - accuracy: 0.8624 - val_loss: 0.4244 - val_accuracy: 0.8012\n",
            "\n",
            "Epoch 00028: val_accuracy did not improve from 0.83188\n",
            "Epoch 29/100\n",
            "100/100 [==============================] - 40s 401ms/step - loss: 0.2844 - accuracy: 0.8785 - val_loss: 0.4371 - val_accuracy: 0.7950\n",
            "\n",
            "Epoch 00029: val_accuracy did not improve from 0.83188\n",
            "Epoch 30/100\n",
            "100/100 [==============================] - 25s 256ms/step - loss: 0.3030 - accuracy: 0.8770 - val_loss: 0.4426 - val_accuracy: 0.7981\n",
            "\n",
            "Epoch 00030: val_accuracy did not improve from 0.83188\n",
            "Epoch 00030: early stopping\n"
          ],
          "name": "stdout"
        }
      ]
    },
    {
      "cell_type": "code",
      "metadata": {
        "colab": {
          "base_uri": "https://localhost:8080/"
        },
        "id": "CMmWf9lYjIWN",
        "outputId": "d7e972da-2196-4619-fa4b-7d57848b22e4"
      },
      "source": [
        "additional_model.save('/content/drive/MyDrive/CatClassifier/AlexNet/additional train (1)')"
      ],
      "execution_count": 12,
      "outputs": [
        {
          "output_type": "stream",
          "text": [
            "INFO:tensorflow:Assets written to: /content/drive/MyDrive/CatClassifier/AlexNet/additional train (1)/assets\n"
          ],
          "name": "stdout"
        }
      ]
    },
    {
      "cell_type": "code",
      "metadata": {
        "colab": {
          "base_uri": "https://localhost:8080/"
        },
        "id": "4A4zj20UFzCZ",
        "outputId": "6694d5b4-7a02-4411-f2bc-7033f1b96044"
      },
      "source": [
        "additional_model.evaluate(train_generator)"
      ],
      "execution_count": 13,
      "outputs": [
        {
          "output_type": "stream",
          "text": [
            "626/626 [==============================] - 167s 267ms/step - loss: 0.3804 - accuracy: 0.8262\n"
          ],
          "name": "stdout"
        },
        {
          "output_type": "execute_result",
          "data": {
            "text/plain": [
              "[0.3803776502609253, 0.8262087106704712]"
            ]
          },
          "metadata": {
            "tags": []
          },
          "execution_count": 13
        }
      ]
    },
    {
      "cell_type": "code",
      "metadata": {
        "id": "YBQrW8NFSJpC"
      },
      "source": [
        ""
      ],
      "execution_count": null,
      "outputs": []
    }
  ]
}