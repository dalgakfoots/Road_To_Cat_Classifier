{
  "nbformat": 4,
  "nbformat_minor": 0,
  "metadata": {
    "colab": {
      "name": "Cat_and_Dog_Classifier_WebApp.ipynb",
      "provenance": [],
      "collapsed_sections": []
    },
    "kernelspec": {
      "name": "python3",
      "display_name": "Python 3"
    }
  },
  "cells": [
    {
      "cell_type": "code",
      "metadata": {
        "id": "VlqUQhDOhmym"
      },
      "source": [
        "! pip install streamlit"
      ],
      "execution_count": null,
      "outputs": []
    },
    {
      "cell_type": "code",
      "metadata": {
        "id": "DcEHdT2uhojX"
      },
      "source": [
        "! pip install pyngrok"
      ],
      "execution_count": null,
      "outputs": []
    },
    {
      "cell_type": "code",
      "metadata": {
        "id": "W3i1IogSil6_"
      },
      "source": [
        "import tensorflow as tf\r\n",
        "import keras\r\n",
        "import numpy as np"
      ],
      "execution_count": 3,
      "outputs": []
    },
    {
      "cell_type": "code",
      "metadata": {
        "colab": {
          "base_uri": "https://localhost:8080/"
        },
        "id": "_D0BB5gRhqFG",
        "outputId": "8376deef-6cb5-4230-a264-cb51e05b9539"
      },
      "source": [
        "%%writefile app.py\r\n",
        "import streamlit as st\r\n",
        "import tensorflow as tf\r\n",
        "import keras\r\n",
        "import numpy as np\r\n",
        "from PIL import Image, ImageOps\r\n",
        "\r\n",
        "st.set_option('deprecation.showfileUploaderEncoding', False)\r\n",
        "@st.cache(allow_output_mutation=True)\r\n",
        "def load_model():\r\n",
        "    mobile_model = keras.models.load_model('/content/drive/MyDrive/CatClassifier/MobileNet')\r\n",
        "    basic_model = keras.models.load_model('/content/drive/MyDrive/CatClassifier/Basic CNN/ver0_additional')\r\n",
        "    alexNet_model = keras.models.load_model('/content/drive/MyDrive/CatClassifier/AlexNet')\r\n",
        "    vgg_model = keras.models.load_model('/content/drive/MyDrive/CatClassifier/VggNet')\r\n",
        "    googLenet_model = keras.models.load_model('/content/drive/MyDrive/CatClassifier/GoogLeNet')\r\n",
        "    models = [mobile_model, basic_model, alexNet_model, vgg_model, googLenet_model]\r\n",
        "    return models\r\n",
        "\r\n",
        "def image_prepare(image_data):\r\n",
        "\r\n",
        "    image150 = ImageOps.fit(image_data, (150,150), Image.ANTIALIAS)\r\n",
        "    image224 = ImageOps.fit(image_data, (224,224), Image.ANTIALIAS)\r\n",
        "    image227 = ImageOps.fit(image_data, (227,227), Image.ANTIALIAS)\r\n",
        "\r\n",
        "    img_arr150 = keras.preprocessing.image.img_to_array(\r\n",
        "        img = image150\r\n",
        "    )\r\n",
        "\r\n",
        "    img_arr224 = keras.preprocessing.image.img_to_array(\r\n",
        "        img = image224\r\n",
        "    )\r\n",
        "\r\n",
        "    img_arr227 = keras.preprocessing.image.img_to_array(\r\n",
        "        img = image227\r\n",
        "    )\r\n",
        "\r\n",
        "    img_arr150 = np.array([img_arr150]) / 255.\r\n",
        "    img_arr224 = np.array([img_arr224]) / 255.\r\n",
        "    img_arr227 = np.array([img_arr227]) / 255.\r\n",
        "    \r\n",
        "    return img_arr150 , img_arr224, img_arr227\r\n",
        "\r\n",
        "def import_and_predict(image_data, models):\r\n",
        "    img_arr150 , img_arr224, img_arr227 = image_prepare(image_data)\r\n",
        "\r\n",
        "    mob = models[0].predict(img_arr224)\r\n",
        "    bas = models[1].predict(img_arr150)\r\n",
        "    alx = models[2].predict(img_arr227)\r\n",
        "    vgg = models[3].predict(img_arr224)\r\n",
        "    goo = models[4].predict(img_arr224)\r\n",
        "    \r\n",
        "    pred = (mob + bas + alx + vgg + goo[0]) / 5\r\n",
        "    preds = [mob, bas, alx, vgg , goo]\r\n",
        "    return pred , preds\r\n",
        "\r\n",
        "models = load_model()\r\n",
        "\r\n",
        "st.write(\"\"\"# 고양이 vs 개 분류기\"\"\")\r\n",
        "\r\n",
        "file_ = st.file_uploader('이미지를 업로드 해주세요!', type=['jpg', 'png'])\r\n",
        "\r\n",
        "if file_ is None:\r\n",
        "    st.text('이미지 파일을 업로드 해주세요!')\r\n",
        "else :\r\n",
        "    image = Image.open(file_)\r\n",
        "    st.image(image, use_column_width = True)\r\n",
        "    pred, preds = import_and_predict(image, models)\r\n",
        "    pred = np.array(pred[0])\r\n",
        "    pred = tf.argmax(pred)\r\n",
        "    labels = ['고양이' , '개']\r\n",
        "    string = f'알파고님들은 합의 끝에 이 사진을 {labels[pred]} 라고 판단했습니다.'\r\n",
        "    st.success(string)\r\n",
        "    left_column, right_column = st.beta_columns(2)\r\n",
        "    pressed = left_column.button(f'추정 확률 공개')\r\n",
        "    if pressed:\r\n",
        "        st.write(f'MobileNet님 : {round(preds[0][0][pred] * 100 , 4)}% 로 이것은 {labels[pred]}임.')\r\n",
        "        st.write(f'Trash님 : {round(preds[1][0][pred] * 100, 4)}% 로 이것은 {labels[pred]}임.')\r\n",
        "        st.write(f'AlexNet님 : {round(preds[2][0][pred] * 100, 4)}% 로 이것은 {labels[pred]}임.')\r\n",
        "        st.write(f'Vgg16님 : {round(preds[3][0][pred] * 100, 4)}% 로 이것은 {labels[pred]}임.')\r\n",
        "        st.write(f'GoogLeNet님 : {round(preds[4][0][0][pred] * 100, 4)}% 로 이것은 {labels[pred]}임.')"
      ],
      "execution_count": 47,
      "outputs": [
        {
          "output_type": "stream",
          "text": [
            "Overwriting app.py\n"
          ],
          "name": "stdout"
        }
      ]
    },
    {
      "cell_type": "code",
      "metadata": {
        "id": "TVLgPJ6QhwTu"
      },
      "source": [
        "!ls"
      ],
      "execution_count": null,
      "outputs": []
    },
    {
      "cell_type": "code",
      "metadata": {
        "colab": {
          "base_uri": "https://localhost:8080/"
        },
        "id": "C8SGPY61hx2-",
        "outputId": "814639e2-ffc5-4bbe-8937-d53d7074e569"
      },
      "source": [
        "!ngrok authtoken *"
      ],
      "execution_count": 23,
      "outputs": [
        {
          "output_type": "stream",
          "text": [
            "Authtoken saved to configuration file: /root/.ngrok2/ngrok.yml\n"
          ],
          "name": "stdout"
        }
      ]
    },
    {
      "cell_type": "code",
      "metadata": {
        "id": "QKMf2pjlh3mm"
      },
      "source": [
        "from pyngrok import ngrok"
      ],
      "execution_count": 24,
      "outputs": []
    },
    {
      "cell_type": "code",
      "metadata": {
        "id": "n_8qfj9Uh6u-"
      },
      "source": [
        "!streamlit run app.py&>/dev/null&"
      ],
      "execution_count": 25,
      "outputs": []
    },
    {
      "cell_type": "code",
      "metadata": {
        "id": "fRwQmEOoiAJO"
      },
      "source": [
        "publ_url = ngrok.connect(addr='8501')"
      ],
      "execution_count": 26,
      "outputs": []
    },
    {
      "cell_type": "code",
      "metadata": {
        "colab": {
          "base_uri": "https://localhost:8080/"
        },
        "id": "qzyno0sQiEgu",
        "outputId": "88b0ded8-1f12-493e-9493-c84c268dab7a"
      },
      "source": [
        "publ_url"
      ],
      "execution_count": 27,
      "outputs": [
        {
          "output_type": "execute_result",
          "data": {
            "text/plain": [
              "<NgrokTunnel: \"http://898f39b29665.ngrok.io\" -> \"http://localhost:8501\">"
            ]
          },
          "metadata": {
            "tags": []
          },
          "execution_count": 27
        }
      ]
    },
    {
      "cell_type": "code",
      "metadata": {
        "id": "Zp74U41tiF9u"
      },
      "source": [
        "!ps"
      ],
      "execution_count": null,
      "outputs": []
    },
    {
      "cell_type": "code",
      "metadata": {
        "id": "zYtKCo9biQXP"
      },
      "source": [
        "!kill 657"
      ],
      "execution_count": 49,
      "outputs": []
    },
    {
      "cell_type": "code",
      "metadata": {
        "id": "yzfemOnCiTnm"
      },
      "source": [
        "ngrok.kill()"
      ],
      "execution_count": 50,
      "outputs": []
    }
  ]
}